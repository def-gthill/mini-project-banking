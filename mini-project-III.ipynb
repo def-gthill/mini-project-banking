{
 "cells": [
  {
   "cell_type": "markdown",
   "metadata": {},
   "source": [
    "## Mini Project III"
   ]
  },
  {
   "cell_type": "code",
   "execution_count": 1,
   "metadata": {},
   "outputs": [],
   "source": [
    "import seaborn as sns\n",
    "import numpy as np\n",
    "import pandas as pd\n",
    "\n",
    "import gc \n",
    "\n",
    "import plotly.express as px\n",
    "\n",
    "from sklearn.decomposition import PCA\n",
    "from sklearn.cluster import KMeans\n",
    "import matplotlib.pyplot as plt\n",
    "\n",
    "from sklearn.preprocessing import StandardScaler\n",
    "import scipy.cluster.hierarchy as sch\n",
    "from sklearn.cluster import AgglomerativeClustering\n",
    "\n",
    "import matplotlib.pyplot as plt\n",
    "from matplotlib import style\n",
    "from matplotlib.pyplot import *"
   ]
  },
  {
   "cell_type": "code",
   "execution_count": 2,
   "metadata": {},
   "outputs": [],
   "source": [
    "twm_transactions = pd.read_csv(\"twm_transactions.csv\", sep=';')\n",
    "twm_savings_tran = pd.read_csv(\"twm_savings_tran.csv\", sep=';')\n",
    "twm_savings_acct = pd.read_csv(\"twm_savings_acct.csv\", sep=';')\n",
    "twm_customer = pd.read_csv(\"twm_customer.csv\", sep=';')\n",
    "twm_credit_tran = pd.read_csv(\"twm_credit_tran.csv\", sep=';')\n",
    "twm_credit_acct = pd.read_csv(\"twm_credit_acct.csv\", sep=';')\n",
    "twm_checking_tran = pd.read_csv(\"twm_checking_tran.csv\", sep=';')\n",
    "twm_checking_acct = pd.read_csv(\"twm_checking_acct.csv\", sep=';')\n",
    "twm_accounts = pd.read_csv(\"twm_accounts.csv\", sep=';')"
   ]
  },
  {
   "cell_type": "code",
   "execution_count": 3,
   "metadata": {},
   "outputs": [
    {
     "data": {
      "text/html": [
       "<div>\n",
       "<style scoped>\n",
       "    .dataframe tbody tr th:only-of-type {\n",
       "        vertical-align: middle;\n",
       "    }\n",
       "\n",
       "    .dataframe tbody tr th {\n",
       "        vertical-align: top;\n",
       "    }\n",
       "\n",
       "    .dataframe thead th {\n",
       "        text-align: right;\n",
       "    }\n",
       "</style>\n",
       "<table border=\"1\" class=\"dataframe\">\n",
       "  <thead>\n",
       "    <tr style=\"text-align: right;\">\n",
       "      <th></th>\n",
       "      <th>cust_id</th>\n",
       "      <th>income</th>\n",
       "      <th>age</th>\n",
       "      <th>years_with_bank</th>\n",
       "      <th>nbr_children</th>\n",
       "      <th>gender</th>\n",
       "      <th>marital_status</th>\n",
       "      <th>name_prefix</th>\n",
       "      <th>first_name</th>\n",
       "      <th>last_name</th>\n",
       "      <th>street_nbr</th>\n",
       "      <th>street_name</th>\n",
       "      <th>postal_code</th>\n",
       "      <th>city_name</th>\n",
       "      <th>state_code</th>\n",
       "    </tr>\n",
       "  </thead>\n",
       "  <tbody>\n",
       "    <tr>\n",
       "      <th>0</th>\n",
       "      <td>1362691</td>\n",
       "      <td>26150</td>\n",
       "      <td>46</td>\n",
       "      <td>5</td>\n",
       "      <td>1</td>\n",
       "      <td>1</td>\n",
       "      <td>2</td>\n",
       "      <td></td>\n",
       "      <td>Donald                                        ...</td>\n",
       "      <td>Marek                                         ...</td>\n",
       "      <td>8298</td>\n",
       "      <td>Second                                        ...</td>\n",
       "      <td>89194</td>\n",
       "      <td>Las Vegas</td>\n",
       "      <td>NV</td>\n",
       "    </tr>\n",
       "    <tr>\n",
       "      <th>1</th>\n",
       "      <td>1362487</td>\n",
       "      <td>6605</td>\n",
       "      <td>71</td>\n",
       "      <td>1</td>\n",
       "      <td>0</td>\n",
       "      <td>1</td>\n",
       "      <td>2</td>\n",
       "      <td></td>\n",
       "      <td>ChingDyi                                      ...</td>\n",
       "      <td>Moussavi                                      ...</td>\n",
       "      <td>10603</td>\n",
       "      <td>Daffodil                                      ...</td>\n",
       "      <td>90159</td>\n",
       "      <td>Los Angeles</td>\n",
       "      <td>CA</td>\n",
       "    </tr>\n",
       "    <tr>\n",
       "      <th>2</th>\n",
       "      <td>1363160</td>\n",
       "      <td>18548</td>\n",
       "      <td>38</td>\n",
       "      <td>8</td>\n",
       "      <td>0</td>\n",
       "      <td>0</td>\n",
       "      <td>1</td>\n",
       "      <td></td>\n",
       "      <td>Rosa                                          ...</td>\n",
       "      <td>Johnston                                      ...</td>\n",
       "      <td>8817</td>\n",
       "      <td>Figueroa                                      ...</td>\n",
       "      <td>90024</td>\n",
       "      <td>Los Angeles</td>\n",
       "      <td>CA</td>\n",
       "    </tr>\n",
       "    <tr>\n",
       "      <th>3</th>\n",
       "      <td>1362752</td>\n",
       "      <td>47668</td>\n",
       "      <td>54</td>\n",
       "      <td>3</td>\n",
       "      <td>0</td>\n",
       "      <td>0</td>\n",
       "      <td>1</td>\n",
       "      <td></td>\n",
       "      <td>Lisa                                          ...</td>\n",
       "      <td>Martin                                        ...</td>\n",
       "      <td>676</td>\n",
       "      <td>Humble                                        ...</td>\n",
       "      <td>90172</td>\n",
       "      <td>Los Angeles</td>\n",
       "      <td>CA</td>\n",
       "    </tr>\n",
       "    <tr>\n",
       "      <th>4</th>\n",
       "      <td>1362548</td>\n",
       "      <td>44554</td>\n",
       "      <td>59</td>\n",
       "      <td>9</td>\n",
       "      <td>2</td>\n",
       "      <td>0</td>\n",
       "      <td>4</td>\n",
       "      <td></td>\n",
       "      <td>Barbara                                       ...</td>\n",
       "      <td>O'Malley                                      ...</td>\n",
       "      <td>6578</td>\n",
       "      <td>C                                             ...</td>\n",
       "      <td>10138</td>\n",
       "      <td>New York City</td>\n",
       "      <td>NY</td>\n",
       "    </tr>\n",
       "    <tr>\n",
       "      <th>...</th>\n",
       "      <td>...</td>\n",
       "      <td>...</td>\n",
       "      <td>...</td>\n",
       "      <td>...</td>\n",
       "      <td>...</td>\n",
       "      <td>...</td>\n",
       "      <td>...</td>\n",
       "      <td>...</td>\n",
       "      <td>...</td>\n",
       "      <td>...</td>\n",
       "      <td>...</td>\n",
       "      <td>...</td>\n",
       "      <td>...</td>\n",
       "      <td>...</td>\n",
       "      <td>...</td>\n",
       "    </tr>\n",
       "    <tr>\n",
       "      <th>742</th>\n",
       "      <td>1363324</td>\n",
       "      <td>14795</td>\n",
       "      <td>36</td>\n",
       "      <td>6</td>\n",
       "      <td>1</td>\n",
       "      <td>0</td>\n",
       "      <td>4</td>\n",
       "      <td></td>\n",
       "      <td>Lillian                                       ...</td>\n",
       "      <td>Kaufman                                       ...</td>\n",
       "      <td>9677</td>\n",
       "      <td>B                                             ...</td>\n",
       "      <td>90016</td>\n",
       "      <td>Los Angeles</td>\n",
       "      <td>CA</td>\n",
       "    </tr>\n",
       "    <tr>\n",
       "      <th>743</th>\n",
       "      <td>1362895</td>\n",
       "      <td>26387</td>\n",
       "      <td>56</td>\n",
       "      <td>6</td>\n",
       "      <td>1</td>\n",
       "      <td>1</td>\n",
       "      <td>2</td>\n",
       "      <td></td>\n",
       "      <td>Marty                                         ...</td>\n",
       "      <td>McSherry                                      ...</td>\n",
       "      <td>3227</td>\n",
       "      <td>Inspiration                                   ...</td>\n",
       "      <td>10126</td>\n",
       "      <td>New York City</td>\n",
       "      <td>NY</td>\n",
       "    </tr>\n",
       "    <tr>\n",
       "      <th>744</th>\n",
       "      <td>1362569</td>\n",
       "      <td>61300</td>\n",
       "      <td>50</td>\n",
       "      <td>0</td>\n",
       "      <td>2</td>\n",
       "      <td>1</td>\n",
       "      <td>2</td>\n",
       "      <td></td>\n",
       "      <td>Ken                                           ...</td>\n",
       "      <td>Lawrence                                      ...</td>\n",
       "      <td>6082</td>\n",
       "      <td>23rd                                          ...</td>\n",
       "      <td>87194</td>\n",
       "      <td>Albuquerque</td>\n",
       "      <td>NM</td>\n",
       "    </tr>\n",
       "    <tr>\n",
       "      <th>745</th>\n",
       "      <td>1363364</td>\n",
       "      <td>15100</td>\n",
       "      <td>37</td>\n",
       "      <td>7</td>\n",
       "      <td>0</td>\n",
       "      <td>0</td>\n",
       "      <td>2</td>\n",
       "      <td></td>\n",
       "      <td>Debbie                                        ...</td>\n",
       "      <td>Runner                                        ...</td>\n",
       "      <td>7851</td>\n",
       "      <td>H                                             ...</td>\n",
       "      <td>35241</td>\n",
       "      <td>Birmingham</td>\n",
       "      <td>AL</td>\n",
       "    </tr>\n",
       "    <tr>\n",
       "      <th>746</th>\n",
       "      <td>1363303</td>\n",
       "      <td>17875</td>\n",
       "      <td>18</td>\n",
       "      <td>3</td>\n",
       "      <td>0</td>\n",
       "      <td>0</td>\n",
       "      <td>1</td>\n",
       "      <td></td>\n",
       "      <td>Molly                                         ...</td>\n",
       "      <td>Potter                                        ...</td>\n",
       "      <td>7824</td>\n",
       "      <td>E                                             ...</td>\n",
       "      <td>90029</td>\n",
       "      <td>Los Angeles</td>\n",
       "      <td>CA</td>\n",
       "    </tr>\n",
       "  </tbody>\n",
       "</table>\n",
       "<p>747 rows × 15 columns</p>\n",
       "</div>"
      ],
      "text/plain": [
       "     cust_id  income  age  years_with_bank  nbr_children  gender  \\\n",
       "0    1362691   26150   46                5             1       1   \n",
       "1    1362487    6605   71                1             0       1   \n",
       "2    1363160   18548   38                8             0       0   \n",
       "3    1362752   47668   54                3             0       0   \n",
       "4    1362548   44554   59                9             2       0   \n",
       "..       ...     ...  ...              ...           ...     ...   \n",
       "742  1363324   14795   36                6             1       0   \n",
       "743  1362895   26387   56                6             1       1   \n",
       "744  1362569   61300   50                0             2       1   \n",
       "745  1363364   15100   37                7             0       0   \n",
       "746  1363303   17875   18                3             0       0   \n",
       "\n",
       "     marital_status name_prefix  \\\n",
       "0                 2               \n",
       "1                 2               \n",
       "2                 1               \n",
       "3                 1               \n",
       "4                 4               \n",
       "..              ...         ...   \n",
       "742               4               \n",
       "743               2               \n",
       "744               2               \n",
       "745               2               \n",
       "746               1               \n",
       "\n",
       "                                            first_name  \\\n",
       "0    Donald                                        ...   \n",
       "1    ChingDyi                                      ...   \n",
       "2    Rosa                                          ...   \n",
       "3    Lisa                                          ...   \n",
       "4    Barbara                                       ...   \n",
       "..                                                 ...   \n",
       "742  Lillian                                       ...   \n",
       "743  Marty                                         ...   \n",
       "744  Ken                                           ...   \n",
       "745  Debbie                                        ...   \n",
       "746  Molly                                         ...   \n",
       "\n",
       "                                             last_name  street_nbr  \\\n",
       "0    Marek                                         ...        8298   \n",
       "1    Moussavi                                      ...       10603   \n",
       "2    Johnston                                      ...        8817   \n",
       "3    Martin                                        ...         676   \n",
       "4    O'Malley                                      ...        6578   \n",
       "..                                                 ...         ...   \n",
       "742  Kaufman                                       ...        9677   \n",
       "743  McSherry                                      ...        3227   \n",
       "744  Lawrence                                      ...        6082   \n",
       "745  Runner                                        ...        7851   \n",
       "746  Potter                                        ...        7824   \n",
       "\n",
       "                                           street_name  postal_code  \\\n",
       "0    Second                                        ...        89194   \n",
       "1    Daffodil                                      ...        90159   \n",
       "2    Figueroa                                      ...        90024   \n",
       "3    Humble                                        ...        90172   \n",
       "4    C                                             ...        10138   \n",
       "..                                                 ...          ...   \n",
       "742  B                                             ...        90016   \n",
       "743  Inspiration                                   ...        10126   \n",
       "744  23rd                                          ...        87194   \n",
       "745  H                                             ...        35241   \n",
       "746  E                                             ...        90029   \n",
       "\n",
       "                                    city_name state_code  \n",
       "0    Las Vegas                                      NV    \n",
       "1    Los Angeles                                    CA    \n",
       "2    Los Angeles                                    CA    \n",
       "3    Los Angeles                                    CA    \n",
       "4    New York City                                  NY    \n",
       "..                                        ...        ...  \n",
       "742  Los Angeles                                    CA    \n",
       "743  New York City                                  NY    \n",
       "744  Albuquerque                                    NM    \n",
       "745  Birmingham                                     AL    \n",
       "746  Los Angeles                                    CA    \n",
       "\n",
       "[747 rows x 15 columns]"
      ]
     },
     "execution_count": 3,
     "metadata": {},
     "output_type": "execute_result"
    }
   ],
   "source": [
    "find_replace = {\"gender\" : {\"M\": 1, \"F\": 0}}\n",
    "twm_customer['gender'] = twm_customer['gender'].str.strip()\n",
    "twm_customer.replace(find_replace, inplace=True)\n",
    "twm_customer"
   ]
  },
  {
   "cell_type": "code",
   "execution_count": null,
   "metadata": {},
   "outputs": [],
   "source": []
  },
  {
   "cell_type": "code",
   "execution_count": 4,
   "metadata": {},
   "outputs": [],
   "source": [
    "test2=twm_customer.copy()\n",
    "test2=test2.set_index('cust_id')\n",
    "test3=twm_savings_acct.copy()\n",
    "test3=test3.set_index('cust_id')\n",
    "\n",
    "\n",
    "test2=test2.join(test3.ending_balance).rename({'ending_balance': 'saving'}, axis='columns')\n",
    "test4=twm_credit_acct.copy()\n",
    "test4=test4.set_index('cust_id')\n",
    "test2=test2.join(test4.ending_balance).rename({'ending_balance': 'credit'}, axis='columns')\n",
    "test5=twm_checking_acct.copy()\n",
    "test5=test5.set_index('cust_id')\n",
    "test2=test2.join(test5.ending_balance).rename({'ending_balance': 'checking'}, axis='columns')\n",
    "test6=twm_credit_tran.groupby(\"cust_id\").size().to_frame()\n",
    "test2=test2.join(test6[0]).rename({0: 'num_credit_tran'}, axis='columns')\n",
    "\n",
    "test7=twm_savings_tran.groupby(\"cust_id\").size().to_frame()\n",
    "test2=test2.join(test7[0]).rename({0: 'num_savings_tran'}, axis='columns')\n",
    "\n",
    "test8=twm_checking_tran.groupby(\"cust_id\").size().to_frame()\n",
    "test2=test2.join(test8[0]).rename({0: 'num_checking_tran'}, axis='columns')\n",
    "\n",
    "\n",
    "test9=twm_credit_tran.copy()\n",
    "test9.tran_amt=test9.tran_amt.abs()\n",
    "test9=test9.groupby('cust_id').tran_amt.sum().to_frame()  #re use test9\n",
    "test2=test2.join(test9[\"tran_amt\"]).rename({'tran_amt': 'CC_tran_amt'}, axis='columns')\n",
    "\n",
    "\n",
    "test10=twm_checking_tran.copy()\n",
    "test10.tran_amt=test10.tran_amt.abs()\n",
    "test10=test10.groupby('cust_id').tran_amt.sum().to_frame()\n",
    "test2=test2.join(test10[\"tran_amt\"]).rename({'tran_amt': 'CH_tran_amt'}, axis='columns')\n",
    "\n",
    "test11=twm_savings_tran.copy()\n",
    "test11.tran_amt=test11.tran_amt.abs()\n",
    "test11=test11.groupby('cust_id').tran_amt.sum().to_frame()\n",
    "test2=test2.join(test11[\"tran_amt\"]).rename({'tran_amt': 'SV_tran_amt'}, axis='columns')\n",
    "\n",
    "test2['AVG_credit_amt']=test2['CC_tran_amt']/test2['num_credit_tran']\n",
    "test2['AVG_savings_amt']=test2['SV_tran_amt']/test2['num_savings_tran']\n",
    "test2['AVG_checking_amt']=test2['CH_tran_amt']/test2['num_checking_tran']\n",
    "\n",
    "\n",
    "test2['Total_AVG_tran_amt']=(test2['CC_tran_amt'].fillna(0)+test2['SV_tran_amt'].fillna(0)+test2['CH_tran_amt'].fillna(0))/(test2['num_credit_tran'].fillna(0)+test2['num_savings_tran'].fillna(0)+test2['num_checking_tran'].fillna(0))\n",
    "\n"
   ]
  },
  {
   "cell_type": "code",
   "execution_count": 5,
   "metadata": {},
   "outputs": [],
   "source": [
    "test2=test2.fillna(0)"
   ]
  },
  {
   "cell_type": "code",
   "execution_count": 6,
   "metadata": {},
   "outputs": [],
   "source": [
    "pd.set_option('display.max_columns', None)\n"
   ]
  },
  {
   "cell_type": "code",
   "execution_count": 7,
   "metadata": {},
   "outputs": [
    {
     "data": {
      "text/plain": [
       "Index(['income', 'age', 'years_with_bank', 'nbr_children', 'gender',\n",
       "       'marital_status', 'name_prefix', 'first_name', 'last_name',\n",
       "       'street_nbr', 'street_name', 'postal_code', 'city_name', 'state_code',\n",
       "       'saving', 'credit', 'checking', 'num_credit_tran', 'num_savings_tran',\n",
       "       'num_checking_tran', 'CC_tran_amt', 'CH_tran_amt', 'SV_tran_amt',\n",
       "       'AVG_credit_amt', 'AVG_savings_amt', 'AVG_checking_amt',\n",
       "       'Total_AVG_tran_amt'],\n",
       "      dtype='object')"
      ]
     },
     "execution_count": 7,
     "metadata": {},
     "output_type": "execute_result"
    }
   ],
   "source": [
    "test2.columns"
   ]
  },
  {
   "cell_type": "code",
   "execution_count": 8,
   "metadata": {},
   "outputs": [
    {
     "data": {
      "text/html": [
       "<div>\n",
       "<style scoped>\n",
       "    .dataframe tbody tr th:only-of-type {\n",
       "        vertical-align: middle;\n",
       "    }\n",
       "\n",
       "    .dataframe tbody tr th {\n",
       "        vertical-align: top;\n",
       "    }\n",
       "\n",
       "    .dataframe thead th {\n",
       "        text-align: right;\n",
       "    }\n",
       "</style>\n",
       "<table border=\"1\" class=\"dataframe\">\n",
       "  <thead>\n",
       "    <tr style=\"text-align: right;\">\n",
       "      <th></th>\n",
       "      <th>saving</th>\n",
       "      <th>credit</th>\n",
       "      <th>checking</th>\n",
       "      <th>num_savings_tran</th>\n",
       "      <th>num_credit_tran</th>\n",
       "      <th>num_checking_tran</th>\n",
       "      <th>SV_tran_amt</th>\n",
       "      <th>CC_tran_amt</th>\n",
       "      <th>CH_tran_amt</th>\n",
       "      <th>AVG_savings_amt</th>\n",
       "      <th>AVG_credit_amt</th>\n",
       "      <th>AVG_checking_amt</th>\n",
       "      <th>Total_AVG_tran_amt</th>\n",
       "    </tr>\n",
       "    <tr>\n",
       "      <th>cust_id</th>\n",
       "      <th></th>\n",
       "      <th></th>\n",
       "      <th></th>\n",
       "      <th></th>\n",
       "      <th></th>\n",
       "      <th></th>\n",
       "      <th></th>\n",
       "      <th></th>\n",
       "      <th></th>\n",
       "      <th></th>\n",
       "      <th></th>\n",
       "      <th></th>\n",
       "      <th></th>\n",
       "    </tr>\n",
       "  </thead>\n",
       "  <tbody>\n",
       "    <tr>\n",
       "      <th>1362691</th>\n",
       "      <td>0.00</td>\n",
       "      <td>0.00</td>\n",
       "      <td>0.00</td>\n",
       "      <td>0.0</td>\n",
       "      <td>0.0</td>\n",
       "      <td>0.0</td>\n",
       "      <td>0.00</td>\n",
       "      <td>0.00</td>\n",
       "      <td>0.00</td>\n",
       "      <td>0.000000</td>\n",
       "      <td>0.000000</td>\n",
       "      <td>0.000000</td>\n",
       "      <td>0.000000</td>\n",
       "    </tr>\n",
       "    <tr>\n",
       "      <th>1362487</th>\n",
       "      <td>12.89</td>\n",
       "      <td>1548.23</td>\n",
       "      <td>1401.21</td>\n",
       "      <td>19.0</td>\n",
       "      <td>32.0</td>\n",
       "      <td>52.0</td>\n",
       "      <td>887.52</td>\n",
       "      <td>4773.21</td>\n",
       "      <td>3244.83</td>\n",
       "      <td>46.711579</td>\n",
       "      <td>149.162813</td>\n",
       "      <td>62.400577</td>\n",
       "      <td>86.461748</td>\n",
       "    </tr>\n",
       "    <tr>\n",
       "      <th>1363160</th>\n",
       "      <td>122.54</td>\n",
       "      <td>286.69</td>\n",
       "      <td>0.00</td>\n",
       "      <td>48.0</td>\n",
       "      <td>68.0</td>\n",
       "      <td>0.0</td>\n",
       "      <td>2662.22</td>\n",
       "      <td>12506.95</td>\n",
       "      <td>0.00</td>\n",
       "      <td>55.462917</td>\n",
       "      <td>183.925735</td>\n",
       "      <td>0.000000</td>\n",
       "      <td>130.768707</td>\n",
       "    </tr>\n",
       "    <tr>\n",
       "      <th>1362752</th>\n",
       "      <td>609.33</td>\n",
       "      <td>0.00</td>\n",
       "      <td>3.76</td>\n",
       "      <td>12.0</td>\n",
       "      <td>15.0</td>\n",
       "      <td>93.0</td>\n",
       "      <td>9.07</td>\n",
       "      <td>6182.65</td>\n",
       "      <td>12086.71</td>\n",
       "      <td>0.755833</td>\n",
       "      <td>412.176667</td>\n",
       "      <td>129.964624</td>\n",
       "      <td>152.320250</td>\n",
       "    </tr>\n",
       "    <tr>\n",
       "      <th>1362548</th>\n",
       "      <td>254.02</td>\n",
       "      <td>68.68</td>\n",
       "      <td>569.65</td>\n",
       "      <td>12.0</td>\n",
       "      <td>22.0</td>\n",
       "      <td>99.0</td>\n",
       "      <td>3.78</td>\n",
       "      <td>15089.99</td>\n",
       "      <td>16817.43</td>\n",
       "      <td>0.315000</td>\n",
       "      <td>685.908636</td>\n",
       "      <td>169.873030</td>\n",
       "      <td>239.933835</td>\n",
       "    </tr>\n",
       "    <tr>\n",
       "      <th>...</th>\n",
       "      <td>...</td>\n",
       "      <td>...</td>\n",
       "      <td>...</td>\n",
       "      <td>...</td>\n",
       "      <td>...</td>\n",
       "      <td>...</td>\n",
       "      <td>...</td>\n",
       "      <td>...</td>\n",
       "      <td>...</td>\n",
       "      <td>...</td>\n",
       "      <td>...</td>\n",
       "      <td>...</td>\n",
       "      <td>...</td>\n",
       "    </tr>\n",
       "    <tr>\n",
       "      <th>1363324</th>\n",
       "      <td>0.00</td>\n",
       "      <td>0.00</td>\n",
       "      <td>2325.37</td>\n",
       "      <td>0.0</td>\n",
       "      <td>0.0</td>\n",
       "      <td>44.0</td>\n",
       "      <td>0.00</td>\n",
       "      <td>0.00</td>\n",
       "      <td>3093.48</td>\n",
       "      <td>0.000000</td>\n",
       "      <td>0.000000</td>\n",
       "      <td>70.306364</td>\n",
       "      <td>70.306364</td>\n",
       "    </tr>\n",
       "    <tr>\n",
       "      <th>1362895</th>\n",
       "      <td>96.25</td>\n",
       "      <td>1300.00</td>\n",
       "      <td>0.00</td>\n",
       "      <td>28.0</td>\n",
       "      <td>27.0</td>\n",
       "      <td>0.0</td>\n",
       "      <td>1410.77</td>\n",
       "      <td>3425.69</td>\n",
       "      <td>0.00</td>\n",
       "      <td>50.384643</td>\n",
       "      <td>126.877407</td>\n",
       "      <td>0.000000</td>\n",
       "      <td>87.935636</td>\n",
       "    </tr>\n",
       "    <tr>\n",
       "      <th>1362569</th>\n",
       "      <td>0.00</td>\n",
       "      <td>9200.00</td>\n",
       "      <td>46.48</td>\n",
       "      <td>0.0</td>\n",
       "      <td>28.0</td>\n",
       "      <td>99.0</td>\n",
       "      <td>0.00</td>\n",
       "      <td>9200.00</td>\n",
       "      <td>16219.81</td>\n",
       "      <td>0.000000</td>\n",
       "      <td>328.571429</td>\n",
       "      <td>163.836465</td>\n",
       "      <td>200.155984</td>\n",
       "    </tr>\n",
       "    <tr>\n",
       "      <th>1363364</th>\n",
       "      <td>0.00</td>\n",
       "      <td>1785.97</td>\n",
       "      <td>296.28</td>\n",
       "      <td>0.0</td>\n",
       "      <td>75.0</td>\n",
       "      <td>99.0</td>\n",
       "      <td>0.00</td>\n",
       "      <td>15457.27</td>\n",
       "      <td>9901.08</td>\n",
       "      <td>0.000000</td>\n",
       "      <td>206.096933</td>\n",
       "      <td>100.010909</td>\n",
       "      <td>145.737644</td>\n",
       "    </tr>\n",
       "    <tr>\n",
       "      <th>1363303</th>\n",
       "      <td>0.00</td>\n",
       "      <td>1000.00</td>\n",
       "      <td>39.22</td>\n",
       "      <td>0.0</td>\n",
       "      <td>61.0</td>\n",
       "      <td>99.0</td>\n",
       "      <td>0.00</td>\n",
       "      <td>10065.28</td>\n",
       "      <td>9362.37</td>\n",
       "      <td>0.000000</td>\n",
       "      <td>165.004590</td>\n",
       "      <td>94.569394</td>\n",
       "      <td>121.422812</td>\n",
       "    </tr>\n",
       "  </tbody>\n",
       "</table>\n",
       "<p>747 rows × 13 columns</p>\n",
       "</div>"
      ],
      "text/plain": [
       "         saving   credit  checking  num_savings_tran  num_credit_tran  \\\n",
       "cust_id                                                                 \n",
       "1362691    0.00     0.00      0.00               0.0              0.0   \n",
       "1362487   12.89  1548.23   1401.21              19.0             32.0   \n",
       "1363160  122.54   286.69      0.00              48.0             68.0   \n",
       "1362752  609.33     0.00      3.76              12.0             15.0   \n",
       "1362548  254.02    68.68    569.65              12.0             22.0   \n",
       "...         ...      ...       ...               ...              ...   \n",
       "1363324    0.00     0.00   2325.37               0.0              0.0   \n",
       "1362895   96.25  1300.00      0.00              28.0             27.0   \n",
       "1362569    0.00  9200.00     46.48               0.0             28.0   \n",
       "1363364    0.00  1785.97    296.28               0.0             75.0   \n",
       "1363303    0.00  1000.00     39.22               0.0             61.0   \n",
       "\n",
       "         num_checking_tran  SV_tran_amt  CC_tran_amt  CH_tran_amt  \\\n",
       "cust_id                                                             \n",
       "1362691                0.0         0.00         0.00         0.00   \n",
       "1362487               52.0       887.52      4773.21      3244.83   \n",
       "1363160                0.0      2662.22     12506.95         0.00   \n",
       "1362752               93.0         9.07      6182.65     12086.71   \n",
       "1362548               99.0         3.78     15089.99     16817.43   \n",
       "...                    ...          ...          ...          ...   \n",
       "1363324               44.0         0.00         0.00      3093.48   \n",
       "1362895                0.0      1410.77      3425.69         0.00   \n",
       "1362569               99.0         0.00      9200.00     16219.81   \n",
       "1363364               99.0         0.00     15457.27      9901.08   \n",
       "1363303               99.0         0.00     10065.28      9362.37   \n",
       "\n",
       "         AVG_savings_amt  AVG_credit_amt  AVG_checking_amt  Total_AVG_tran_amt  \n",
       "cust_id                                                                         \n",
       "1362691         0.000000        0.000000          0.000000            0.000000  \n",
       "1362487        46.711579      149.162813         62.400577           86.461748  \n",
       "1363160        55.462917      183.925735          0.000000          130.768707  \n",
       "1362752         0.755833      412.176667        129.964624          152.320250  \n",
       "1362548         0.315000      685.908636        169.873030          239.933835  \n",
       "...                  ...             ...               ...                 ...  \n",
       "1363324         0.000000        0.000000         70.306364           70.306364  \n",
       "1362895        50.384643      126.877407          0.000000           87.935636  \n",
       "1362569         0.000000      328.571429        163.836465          200.155984  \n",
       "1363364         0.000000      206.096933        100.010909          145.737644  \n",
       "1363303         0.000000      165.004590         94.569394          121.422812  \n",
       "\n",
       "[747 rows x 13 columns]"
      ]
     },
     "execution_count": 8,
     "metadata": {},
     "output_type": "execute_result"
    }
   ],
   "source": [
    "import numpy as np\n",
    "from sklearn.datasets import fetch_lfw_people\n",
    "import matplotlib.pyplot as plt\n",
    "import seaborn as sns; sns.set()\n",
    "df_f=test2[['saving','credit','checking','num_savings_tran','num_credit_tran','num_checking_tran','SV_tran_amt','CC_tran_amt','CH_tran_amt','AVG_savings_amt','AVG_credit_amt','AVG_checking_amt','Total_AVG_tran_amt']]\n",
    "df_f"
   ]
  },
  {
   "cell_type": "code",
   "execution_count": 9,
   "metadata": {},
   "outputs": [
    {
     "data": {
      "text/plain": [
       "array([1, 1, 0, 3, 0, 1, 0, 3, 1, 0, 3, 1, 1, 3, 1, 1, 3, 1, 0, 3, 3, 1,\n",
       "       1, 0, 3, 1, 0, 0, 1, 1, 3, 0, 2, 3, 3, 0, 1, 0, 1, 0, 0, 0, 3, 0,\n",
       "       3, 0, 0, 0, 0, 0, 1, 1, 1, 3, 3, 3, 1, 0, 2, 1, 3, 1, 3, 3, 2, 1,\n",
       "       2, 1, 1, 3, 0, 1, 0, 3, 0, 3, 3, 0, 1, 0, 0, 3, 0, 1, 0, 1, 3, 2,\n",
       "       1, 2, 3, 1, 1, 1, 0, 1, 3, 0, 3, 0, 0, 1, 1, 3, 0, 0, 0, 1, 2, 3,\n",
       "       3, 3, 1, 0, 3, 3, 2, 1, 2, 3, 2, 1, 1, 2, 1, 1, 1, 3, 0, 0, 3, 1,\n",
       "       0, 3, 3, 3, 2, 3, 1, 1, 2, 0, 3, 0, 0, 1, 0, 1, 0, 5, 1, 2, 3, 3,\n",
       "       1, 3, 3, 3, 2, 1, 0, 4, 1, 3, 1, 1, 1, 0, 1, 3, 1, 2, 1, 3, 3, 1,\n",
       "       1, 5, 3, 1, 1, 1, 0, 3, 0, 1, 1, 1, 1, 3, 0, 1, 3, 1, 1, 1, 1, 1,\n",
       "       1, 1, 0, 1, 1, 3, 1, 3, 1, 0, 3, 1, 3, 1, 1, 2, 3, 3, 0, 0, 1, 3,\n",
       "       3, 0, 1, 1, 3, 1, 1, 0, 1, 1, 1, 3, 1, 3, 3, 1, 2, 2, 3, 1, 3, 1,\n",
       "       3, 0, 3, 2, 4, 2, 1, 0, 1, 3, 3, 3, 1, 0, 3, 1, 1, 0, 3, 3, 1, 3,\n",
       "       1, 1, 3, 1, 5, 1, 2, 3, 0, 1, 1, 0, 3, 0, 1, 1, 1, 3, 1, 1, 1, 1,\n",
       "       3, 1, 5, 1, 1, 0, 2, 1, 1, 1, 3, 3, 0, 0, 0, 3, 3, 1, 3, 0, 1, 1,\n",
       "       0, 3, 2, 3, 3, 0, 3, 3, 0, 1, 0, 3, 0, 3, 0, 0, 1, 1, 0, 2, 1, 0,\n",
       "       1, 2, 0, 1, 5, 3, 3, 1, 1, 0, 1, 0, 3, 1, 1, 0, 3, 3, 0, 2, 0, 2,\n",
       "       2, 3, 3, 1, 3, 0, 3, 1, 1, 1, 1, 1, 0, 0, 1, 3, 1, 3, 1, 1, 1, 3,\n",
       "       4, 3, 3, 3, 1, 1, 1, 4, 1, 3, 3, 3, 3, 0, 2, 3, 1, 1, 3, 1, 1, 1,\n",
       "       0, 1, 0, 1, 1, 3, 0, 3, 3, 0, 3, 1, 1, 0, 2, 3, 0, 3, 3, 1, 0, 0,\n",
       "       0, 0, 3, 1, 4, 0, 3, 0, 1, 1, 2, 0, 3, 0, 1, 1, 0, 3, 0, 1, 1, 1,\n",
       "       1, 3, 3, 1, 1, 3, 3, 1, 0, 1, 1, 2, 0, 0, 1, 2, 1, 1, 1, 3, 0, 1,\n",
       "       1, 3, 3, 1, 2, 3, 3, 1, 1, 1, 3, 3, 1, 0, 1, 1, 3, 1, 3, 1, 1, 1,\n",
       "       1, 1, 1, 0, 1, 3, 4, 1, 3, 1, 2, 2, 1, 3, 5, 0, 1, 3, 3, 1, 1, 3,\n",
       "       3, 1, 1, 3, 0, 0, 3, 0, 3, 3, 0, 0, 0, 3, 1, 0, 0, 2, 1, 1, 1, 3,\n",
       "       3, 3, 3, 1, 1, 3, 3, 3, 1, 3, 1, 0, 1, 2, 3, 1, 3, 0, 4, 0, 1, 3,\n",
       "       3, 1, 1, 0, 3, 3, 3, 1, 1, 1, 3, 3, 3, 1, 3, 1, 0, 3, 3, 0, 3, 3,\n",
       "       1, 1, 1, 1, 0, 1, 3, 0, 0, 0, 0, 0, 3, 2, 3, 3, 3, 2, 0, 1, 3, 0,\n",
       "       1, 2, 3, 3, 0, 0, 1, 1, 3, 1, 3, 1, 1, 3, 1, 1, 3, 3, 3, 3, 1, 1,\n",
       "       1, 1, 1, 1, 1, 1, 1, 3, 1, 3, 3, 1, 2, 1, 3, 3, 1, 1, 1, 3, 3, 1,\n",
       "       1, 2, 0, 1, 3, 1, 0, 0, 3, 1, 1, 0, 3, 4, 3, 1, 1, 3, 5, 1, 2, 1,\n",
       "       3, 3, 3, 0, 3, 2, 3, 1, 1, 1, 0, 0, 0, 1, 0, 1, 1, 3, 3, 1, 3, 1,\n",
       "       3, 5, 3, 3, 3, 1, 2, 1, 1, 2, 0, 3, 0, 3, 3, 3, 1, 2, 3, 1, 3, 1,\n",
       "       3, 1, 1, 2, 3, 3, 3, 1, 0, 0, 3, 3, 2, 0, 1, 1, 1, 1, 3, 0, 0, 0,\n",
       "       1, 1, 1, 3, 3, 1, 3, 0, 1, 3, 0, 3, 0, 0, 3, 1, 1, 1, 2, 0, 0])"
      ]
     },
     "execution_count": 9,
     "metadata": {},
     "output_type": "execute_result"
    }
   ],
   "source": [
    "# kmeans\n",
    "from sklearn.cluster import KMeans\n",
    "import numpy as np\n",
    "X=df_f\n",
    "kmeans = KMeans(n_clusters=6, random_state=0).fit(X)\n",
    "kmeans.labels_"
   ]
  },
  {
   "cell_type": "code",
   "execution_count": null,
   "metadata": {},
   "outputs": [],
   "source": []
  },
  {
   "cell_type": "code",
   "execution_count": null,
   "metadata": {},
   "outputs": [],
   "source": []
  },
  {
   "cell_type": "code",
   "execution_count": null,
   "metadata": {},
   "outputs": [],
   "source": []
  },
  {
   "cell_type": "code",
   "execution_count": null,
   "metadata": {},
   "outputs": [],
   "source": []
  },
  {
   "cell_type": "code",
   "execution_count": null,
   "metadata": {},
   "outputs": [],
   "source": []
  },
  {
   "cell_type": "code",
   "execution_count": 11,
   "metadata": {},
   "outputs": [
    {
     "name": "stderr",
     "output_type": "stream",
     "text": [
      "C:\\Users\\cwh93\\anaconda3\\envs\\THE_ONE\\lib\\site-packages\\sklearn\\cluster\\_kmeans.py:882: UserWarning:\n",
      "\n",
      "KMeans is known to have a memory leak on Windows with MKL, when there are less chunks than available threads. You can avoid it by setting the environment variable OMP_NUM_THREADS=3.\n",
      "\n",
      "C:\\Users\\cwh93\\anaconda3\\envs\\THE_ONE\\lib\\site-packages\\sklearn\\cluster\\_kmeans.py:882: UserWarning:\n",
      "\n",
      "KMeans is known to have a memory leak on Windows with MKL, when there are less chunks than available threads. You can avoid it by setting the environment variable OMP_NUM_THREADS=3.\n",
      "\n"
     ]
    },
    {
     "data": {
      "image/png": "[encoded data removed]",
      "text/plain": [
       "<Figure size 432x288 with 1 Axes>"
      ]
     },
     "metadata": {},
     "output_type": "display_data"
    }
   ],
   "source": [
    "from sklearn.cluster import KMeans\n",
    "from sklearn import metrics\n",
    "from scipy.spatial.distance import cdist\n",
    "import numpy as np\n",
    "import matplotlib.pyplot as plt\n",
    "\n",
    "# k means determine k\n",
    "distortions = []\n",
    "K = range(1,13)\n",
    "for k in K:\n",
    "    kmeanModel = KMeans(n_clusters=k).fit(df_f)\n",
    "    kmeanModel.fit(df_f)\n",
    "    distortions.append(sum(np.min(cdist(df_f, kmeanModel.cluster_centers_, 'euclidean'), axis=1)) / X.shape[0])\n",
    "\n",
    "# Plot the elbow\n",
    "plt.plot(K, distortions, 'bx-')\n",
    "plt.xlabel('k')\n",
    "plt.ylabel('Distortion')\n",
    "plt.title('The Elbow Method showing the optimal k')\n",
    "plt.show()\n",
    "\n",
    " "
   ]
  },
  {
   "cell_type": "code",
   "execution_count": 108,
   "metadata": {},
   "outputs": [
    {
     "name": "stdout",
     "output_type": "stream",
     "text": [
      "[0 0 1 1 1 0 1 0 0 1 1 0 0 0 0 0 0 0 1 0 2 0 0 1 0 0 1 1 0 0 1 1 2 1 2 1 0\n",
      " 1 0 1 1 1 0 1 0 1 1 1 1 1 0 0 0 0 0 2 0 1 2 0 0 0 0 1 2 0 2 0 0 0 1 0 1 0\n",
      " 1 0 0 1 0 1 1 0 1 0 1 0 0 2 0 2 0 0 0 0 1 0 1 1 0 1 1 0 0 0 1 1 1 0 2 1 0\n",
      " 0 0 1 1 0 2 0 2 0 2 0 0 2 0 0 0 0 1 1 0 0 1 0 0 0 2 0 0 0 2 1 0 1 1 0 1 0\n",
      " 1 3 0 2 0 2 0 0 0 0 2 0 1 3 0 0 0 0 0 1 0 0 0 2 0 0 2 0 0 3 0 0 0 0 1 0 1\n",
      " 0 0 0 0 0 1 0 0 0 0 0 0 0 0 0 1 0 0 1 0 2 0 1 0 0 0 0 0 2 0 0 1 1 0 0 0 1\n",
      " 0 0 0 0 0 1 0 0 0 0 0 1 0 0 2 2 0 0 0 0 0 1 2 2 3 2 0 1 0 0 0 2 0 1 0 0 0\n",
      " 1 1 0 0 0 0 0 0 0 3 0 2 0 1 0 0 1 1 1 0 0 0 0 0 0 0 0 0 0 3 0 0 1 2 0 0 0\n",
      " 1 1 1 1 1 0 0 0 0 1 0 0 1 0 2 1 0 1 0 0 1 0 1 0 1 2 1 1 0 0 1 2 0 1 0 2 1\n",
      " 0 3 1 0 0 0 1 0 1 0 0 0 1 0 0 1 2 1 2 2 0 0 0 0 1 0 0 0 0 0 0 1 1 0 0 0 0\n",
      " 0 0 0 2 3 0 0 0 0 0 0 3 0 0 0 0 2 1 2 0 0 0 2 0 0 0 1 0 1 0 0 2 1 2 0 1 0\n",
      " 0 0 1 2 0 1 0 2 0 1 3 1 1 0 0 3 1 0 1 0 0 2 1 1 1 0 0 1 0 1 0 0 0 0 0 1 0\n",
      " 0 0 0 0 1 0 0 2 1 1 0 2 0 0 0 0 1 0 0 0 0 0 2 2 0 0 0 0 0 0 0 1 0 0 0 0 0\n",
      " 0 0 0 0 0 0 1 0 0 3 0 0 0 2 2 0 0 3 1 0 0 2 0 0 0 0 0 0 0 1 1 0 1 2 1 1 1\n",
      " 1 0 0 1 1 2 0 0 0 0 0 0 2 0 0 0 0 0 0 2 0 1 0 2 1 0 0 1 3 1 0 0 0 0 0 1 1\n",
      " 1 0 0 0 0 0 0 0 0 2 0 1 0 0 1 0 2 0 0 0 0 1 0 2 1 1 1 1 1 1 2 1 0 0 2 1 0\n",
      " 0 1 0 2 0 0 1 1 0 0 0 0 0 0 0 2 0 0 0 1 0 0 0 0 0 0 0 0 0 0 0 2 0 0 0 0 2\n",
      " 0 0 0 0 0 0 0 1 0 0 2 1 0 1 0 1 1 2 0 0 1 0 3 0 0 0 0 3 0 2 0 0 0 0 1 0 2\n",
      " 0 0 0 0 1 1 1 0 1 0 0 1 0 0 0 0 0 3 0 0 2 0 2 0 0 2 1 2 1 0 1 0 0 2 0 0 0\n",
      " 0 2 0 0 2 0 0 0 0 1 1 0 0 2 1 0 1 0 0 0 1 1 1 0 0 0 0 0 0 1 1 0 0 1 0 1 1\n",
      " 0 0 0 0 2 1 1]\n"
     ]
    }
   ],
   "source": [
    "#Import required module\n",
    "from sklearn.cluster import KMeans\n",
    " \n",
    "#Initialize the class object\n",
    "kmeans = KMeans(n_clusters= 4)\n",
    " \n",
    "#predict the labels of clusters.\n",
    "label = kmeans.fit_predict(df_f)\n",
    " \n",
    "print(label)"
   ]
  },
  {
   "cell_type": "code",
   "execution_count": 13,
   "metadata": {},
   "outputs": [
    {
     "data": {
      "text/html": [
       "<div>\n",
       "<style scoped>\n",
       "    .dataframe tbody tr th:only-of-type {\n",
       "        vertical-align: middle;\n",
       "    }\n",
       "\n",
       "    .dataframe tbody tr th {\n",
       "        vertical-align: top;\n",
       "    }\n",
       "\n",
       "    .dataframe thead th {\n",
       "        text-align: right;\n",
       "    }\n",
       "</style>\n",
       "<table border=\"1\" class=\"dataframe\">\n",
       "  <thead>\n",
       "    <tr style=\"text-align: right;\">\n",
       "      <th></th>\n",
       "      <th>saving</th>\n",
       "      <th>credit</th>\n",
       "      <th>checking</th>\n",
       "      <th>num_savings_tran</th>\n",
       "      <th>num_credit_tran</th>\n",
       "      <th>num_checking_tran</th>\n",
       "      <th>SV_tran_amt</th>\n",
       "      <th>CC_tran_amt</th>\n",
       "      <th>CH_tran_amt</th>\n",
       "      <th>AVG_savings_amt</th>\n",
       "      <th>AVG_credit_amt</th>\n",
       "      <th>AVG_checking_amt</th>\n",
       "      <th>Total_AVG_tran_amt</th>\n",
       "    </tr>\n",
       "    <tr>\n",
       "      <th>cust_id</th>\n",
       "      <th></th>\n",
       "      <th></th>\n",
       "      <th></th>\n",
       "      <th></th>\n",
       "      <th></th>\n",
       "      <th></th>\n",
       "      <th></th>\n",
       "      <th></th>\n",
       "      <th></th>\n",
       "      <th></th>\n",
       "      <th></th>\n",
       "      <th></th>\n",
       "      <th></th>\n",
       "    </tr>\n",
       "  </thead>\n",
       "  <tbody>\n",
       "    <tr>\n",
       "      <th>1362691</th>\n",
       "      <td>0.00</td>\n",
       "      <td>0.00</td>\n",
       "      <td>0.00</td>\n",
       "      <td>0.0</td>\n",
       "      <td>0.0</td>\n",
       "      <td>0.0</td>\n",
       "      <td>0.00</td>\n",
       "      <td>0.00</td>\n",
       "      <td>0.00</td>\n",
       "      <td>0.000000</td>\n",
       "      <td>0.000000</td>\n",
       "      <td>0.000000</td>\n",
       "      <td>0.000000</td>\n",
       "    </tr>\n",
       "    <tr>\n",
       "      <th>1362487</th>\n",
       "      <td>12.89</td>\n",
       "      <td>1548.23</td>\n",
       "      <td>1401.21</td>\n",
       "      <td>19.0</td>\n",
       "      <td>32.0</td>\n",
       "      <td>52.0</td>\n",
       "      <td>887.52</td>\n",
       "      <td>4773.21</td>\n",
       "      <td>3244.83</td>\n",
       "      <td>46.711579</td>\n",
       "      <td>149.162813</td>\n",
       "      <td>62.400577</td>\n",
       "      <td>86.461748</td>\n",
       "    </tr>\n",
       "    <tr>\n",
       "      <th>1363160</th>\n",
       "      <td>122.54</td>\n",
       "      <td>286.69</td>\n",
       "      <td>0.00</td>\n",
       "      <td>48.0</td>\n",
       "      <td>68.0</td>\n",
       "      <td>0.0</td>\n",
       "      <td>2662.22</td>\n",
       "      <td>12506.95</td>\n",
       "      <td>0.00</td>\n",
       "      <td>55.462917</td>\n",
       "      <td>183.925735</td>\n",
       "      <td>0.000000</td>\n",
       "      <td>130.768707</td>\n",
       "    </tr>\n",
       "    <tr>\n",
       "      <th>1362752</th>\n",
       "      <td>609.33</td>\n",
       "      <td>0.00</td>\n",
       "      <td>3.76</td>\n",
       "      <td>12.0</td>\n",
       "      <td>15.0</td>\n",
       "      <td>93.0</td>\n",
       "      <td>9.07</td>\n",
       "      <td>6182.65</td>\n",
       "      <td>12086.71</td>\n",
       "      <td>0.755833</td>\n",
       "      <td>412.176667</td>\n",
       "      <td>129.964624</td>\n",
       "      <td>152.320250</td>\n",
       "    </tr>\n",
       "    <tr>\n",
       "      <th>1362548</th>\n",
       "      <td>254.02</td>\n",
       "      <td>68.68</td>\n",
       "      <td>569.65</td>\n",
       "      <td>12.0</td>\n",
       "      <td>22.0</td>\n",
       "      <td>99.0</td>\n",
       "      <td>3.78</td>\n",
       "      <td>15089.99</td>\n",
       "      <td>16817.43</td>\n",
       "      <td>0.315000</td>\n",
       "      <td>685.908636</td>\n",
       "      <td>169.873030</td>\n",
       "      <td>239.933835</td>\n",
       "    </tr>\n",
       "    <tr>\n",
       "      <th>...</th>\n",
       "      <td>...</td>\n",
       "      <td>...</td>\n",
       "      <td>...</td>\n",
       "      <td>...</td>\n",
       "      <td>...</td>\n",
       "      <td>...</td>\n",
       "      <td>...</td>\n",
       "      <td>...</td>\n",
       "      <td>...</td>\n",
       "      <td>...</td>\n",
       "      <td>...</td>\n",
       "      <td>...</td>\n",
       "      <td>...</td>\n",
       "    </tr>\n",
       "    <tr>\n",
       "      <th>1363324</th>\n",
       "      <td>0.00</td>\n",
       "      <td>0.00</td>\n",
       "      <td>2325.37</td>\n",
       "      <td>0.0</td>\n",
       "      <td>0.0</td>\n",
       "      <td>44.0</td>\n",
       "      <td>0.00</td>\n",
       "      <td>0.00</td>\n",
       "      <td>3093.48</td>\n",
       "      <td>0.000000</td>\n",
       "      <td>0.000000</td>\n",
       "      <td>70.306364</td>\n",
       "      <td>70.306364</td>\n",
       "    </tr>\n",
       "    <tr>\n",
       "      <th>1362895</th>\n",
       "      <td>96.25</td>\n",
       "      <td>1300.00</td>\n",
       "      <td>0.00</td>\n",
       "      <td>28.0</td>\n",
       "      <td>27.0</td>\n",
       "      <td>0.0</td>\n",
       "      <td>1410.77</td>\n",
       "      <td>3425.69</td>\n",
       "      <td>0.00</td>\n",
       "      <td>50.384643</td>\n",
       "      <td>126.877407</td>\n",
       "      <td>0.000000</td>\n",
       "      <td>87.935636</td>\n",
       "    </tr>\n",
       "    <tr>\n",
       "      <th>1362569</th>\n",
       "      <td>0.00</td>\n",
       "      <td>9200.00</td>\n",
       "      <td>46.48</td>\n",
       "      <td>0.0</td>\n",
       "      <td>28.0</td>\n",
       "      <td>99.0</td>\n",
       "      <td>0.00</td>\n",
       "      <td>9200.00</td>\n",
       "      <td>16219.81</td>\n",
       "      <td>0.000000</td>\n",
       "      <td>328.571429</td>\n",
       "      <td>163.836465</td>\n",
       "      <td>200.155984</td>\n",
       "    </tr>\n",
       "    <tr>\n",
       "      <th>1363364</th>\n",
       "      <td>0.00</td>\n",
       "      <td>1785.97</td>\n",
       "      <td>296.28</td>\n",
       "      <td>0.0</td>\n",
       "      <td>75.0</td>\n",
       "      <td>99.0</td>\n",
       "      <td>0.00</td>\n",
       "      <td>15457.27</td>\n",
       "      <td>9901.08</td>\n",
       "      <td>0.000000</td>\n",
       "      <td>206.096933</td>\n",
       "      <td>100.010909</td>\n",
       "      <td>145.737644</td>\n",
       "    </tr>\n",
       "    <tr>\n",
       "      <th>1363303</th>\n",
       "      <td>0.00</td>\n",
       "      <td>1000.00</td>\n",
       "      <td>39.22</td>\n",
       "      <td>0.0</td>\n",
       "      <td>61.0</td>\n",
       "      <td>99.0</td>\n",
       "      <td>0.00</td>\n",
       "      <td>10065.28</td>\n",
       "      <td>9362.37</td>\n",
       "      <td>0.000000</td>\n",
       "      <td>165.004590</td>\n",
       "      <td>94.569394</td>\n",
       "      <td>121.422812</td>\n",
       "    </tr>\n",
       "  </tbody>\n",
       "</table>\n",
       "<p>747 rows × 13 columns</p>\n",
       "</div>"
      ],
      "text/plain": [
       "         saving   credit  checking  num_savings_tran  num_credit_tran  \\\n",
       "cust_id                                                                 \n",
       "1362691    0.00     0.00      0.00               0.0              0.0   \n",
       "1362487   12.89  1548.23   1401.21              19.0             32.0   \n",
       "1363160  122.54   286.69      0.00              48.0             68.0   \n",
       "1362752  609.33     0.00      3.76              12.0             15.0   \n",
       "1362548  254.02    68.68    569.65              12.0             22.0   \n",
       "...         ...      ...       ...               ...              ...   \n",
       "1363324    0.00     0.00   2325.37               0.0              0.0   \n",
       "1362895   96.25  1300.00      0.00              28.0             27.0   \n",
       "1362569    0.00  9200.00     46.48               0.0             28.0   \n",
       "1363364    0.00  1785.97    296.28               0.0             75.0   \n",
       "1363303    0.00  1000.00     39.22               0.0             61.0   \n",
       "\n",
       "         num_checking_tran  SV_tran_amt  CC_tran_amt  CH_tran_amt  \\\n",
       "cust_id                                                             \n",
       "1362691                0.0         0.00         0.00         0.00   \n",
       "1362487               52.0       887.52      4773.21      3244.83   \n",
       "1363160                0.0      2662.22     12506.95         0.00   \n",
       "1362752               93.0         9.07      6182.65     12086.71   \n",
       "1362548               99.0         3.78     15089.99     16817.43   \n",
       "...                    ...          ...          ...          ...   \n",
       "1363324               44.0         0.00         0.00      3093.48   \n",
       "1362895                0.0      1410.77      3425.69         0.00   \n",
       "1362569               99.0         0.00      9200.00     16219.81   \n",
       "1363364               99.0         0.00     15457.27      9901.08   \n",
       "1363303               99.0         0.00     10065.28      9362.37   \n",
       "\n",
       "         AVG_savings_amt  AVG_credit_amt  AVG_checking_amt  Total_AVG_tran_amt  \n",
       "cust_id                                                                         \n",
       "1362691         0.000000        0.000000          0.000000            0.000000  \n",
       "1362487        46.711579      149.162813         62.400577           86.461748  \n",
       "1363160        55.462917      183.925735          0.000000          130.768707  \n",
       "1362752         0.755833      412.176667        129.964624          152.320250  \n",
       "1362548         0.315000      685.908636        169.873030          239.933835  \n",
       "...                  ...             ...               ...                 ...  \n",
       "1363324         0.000000        0.000000         70.306364           70.306364  \n",
       "1362895        50.384643      126.877407          0.000000           87.935636  \n",
       "1362569         0.000000      328.571429        163.836465          200.155984  \n",
       "1363364         0.000000      206.096933        100.010909          145.737644  \n",
       "1363303         0.000000      165.004590         94.569394          121.422812  \n",
       "\n",
       "[747 rows x 13 columns]"
      ]
     },
     "execution_count": 13,
     "metadata": {},
     "output_type": "execute_result"
    }
   ],
   "source": [
    "df_f"
   ]
  },
  {
   "cell_type": "code",
   "execution_count": 14,
   "metadata": {},
   "outputs": [],
   "source": [
    "def plot_clusters(X,y_res, plt_cluster_centers = False):\n",
    "    X_centroids = []\n",
    "    Y_centroids = []\n",
    "\n",
    "    for cluster in set(y_res):\n",
    "        x = X[y_res == cluster,0]\n",
    "        y = X[y_res == cluster,1]\n",
    "        X_centroids.append(np.mean(x))\n",
    "        Y_centroids.append(np.mean(y))\n",
    "\n",
    "        plt.scatter(x,\n",
    "                    y,\n",
    "                    s=50,\n",
    "                    marker='s',\n",
    "                    label=f'cluster {cluster}')\n",
    "\n",
    "    if plt_cluster_centers:\n",
    "        plt.scatter(X_centroids,\n",
    "                    Y_centroids,\n",
    "                    marker='*',\n",
    "                    c='red',\n",
    "                    s=250,\n",
    "                    label='centroids')\n",
    "    plt.legend()\n",
    "    plt.grid()\n",
    "    plt.show()"
   ]
  },
  {
   "cell_type": "code",
   "execution_count": 15,
   "metadata": {},
   "outputs": [],
   "source": [
    "from sklearn.preprocessing import RobustScaler\n",
    "X=df_f\n",
    "transformer = RobustScaler().fit(X)\n",
    "scaled_df=transformer.transform(X)"
   ]
  },
  {
   "cell_type": "code",
   "execution_count": 16,
   "metadata": {},
   "outputs": [
    {
     "data": {
      "text/html": [
       "<div>\n",
       "<style scoped>\n",
       "    .dataframe tbody tr th:only-of-type {\n",
       "        vertical-align: middle;\n",
       "    }\n",
       "\n",
       "    .dataframe tbody tr th {\n",
       "        vertical-align: top;\n",
       "    }\n",
       "\n",
       "    .dataframe thead th {\n",
       "        text-align: right;\n",
       "    }\n",
       "</style>\n",
       "<table border=\"1\" class=\"dataframe\">\n",
       "  <thead>\n",
       "    <tr style=\"text-align: right;\">\n",
       "      <th></th>\n",
       "      <th>saving</th>\n",
       "      <th>credit</th>\n",
       "      <th>checking</th>\n",
       "      <th>num_savings_tran</th>\n",
       "      <th>num_credit_tran</th>\n",
       "      <th>num_checking_tran</th>\n",
       "      <th>SV_tran_amt</th>\n",
       "      <th>CC_tran_amt</th>\n",
       "      <th>CH_tran_amt</th>\n",
       "      <th>AVG_savings_amt</th>\n",
       "      <th>AVG_credit_amt</th>\n",
       "      <th>AVG_checking_amt</th>\n",
       "      <th>Total_AVG_tran_amt</th>\n",
       "    </tr>\n",
       "    <tr>\n",
       "      <th>cust_id</th>\n",
       "      <th></th>\n",
       "      <th></th>\n",
       "      <th></th>\n",
       "      <th></th>\n",
       "      <th></th>\n",
       "      <th></th>\n",
       "      <th></th>\n",
       "      <th></th>\n",
       "      <th></th>\n",
       "      <th></th>\n",
       "      <th></th>\n",
       "      <th></th>\n",
       "      <th></th>\n",
       "    </tr>\n",
       "  </thead>\n",
       "  <tbody>\n",
       "    <tr>\n",
       "      <th>1362548</th>\n",
       "      <td>254.02</td>\n",
       "      <td>68.68</td>\n",
       "      <td>569.65</td>\n",
       "      <td>12.0</td>\n",
       "      <td>22.0</td>\n",
       "      <td>99.0</td>\n",
       "      <td>3.78</td>\n",
       "      <td>15089.99</td>\n",
       "      <td>16817.43</td>\n",
       "      <td>0.315000</td>\n",
       "      <td>685.908636</td>\n",
       "      <td>169.873030</td>\n",
       "      <td>239.933835</td>\n",
       "    </tr>\n",
       "    <tr>\n",
       "      <th>1362546</th>\n",
       "      <td>991.01</td>\n",
       "      <td>1292.63</td>\n",
       "      <td>84.83</td>\n",
       "      <td>26.0</td>\n",
       "      <td>84.0</td>\n",
       "      <td>99.0</td>\n",
       "      <td>1231.16</td>\n",
       "      <td>17114.03</td>\n",
       "      <td>9321.18</td>\n",
       "      <td>47.352308</td>\n",
       "      <td>203.738452</td>\n",
       "      <td>94.153333</td>\n",
       "      <td>132.374976</td>\n",
       "    </tr>\n",
       "    <tr>\n",
       "      <th>1362954</th>\n",
       "      <td>0.00</td>\n",
       "      <td>1226.12</td>\n",
       "      <td>301.79</td>\n",
       "      <td>0.0</td>\n",
       "      <td>44.0</td>\n",
       "      <td>99.0</td>\n",
       "      <td>0.00</td>\n",
       "      <td>15461.50</td>\n",
       "      <td>16212.34</td>\n",
       "      <td>0.000000</td>\n",
       "      <td>351.397727</td>\n",
       "      <td>163.761010</td>\n",
       "      <td>221.495385</td>\n",
       "    </tr>\n",
       "    <tr>\n",
       "      <th>1363076</th>\n",
       "      <td>0.00</td>\n",
       "      <td>770.56</td>\n",
       "      <td>67.30</td>\n",
       "      <td>0.0</td>\n",
       "      <td>40.0</td>\n",
       "      <td>99.0</td>\n",
       "      <td>0.00</td>\n",
       "      <td>22161.17</td>\n",
       "      <td>14949.44</td>\n",
       "      <td>0.000000</td>\n",
       "      <td>554.029250</td>\n",
       "      <td>151.004444</td>\n",
       "      <td>266.982806</td>\n",
       "    </tr>\n",
       "    <tr>\n",
       "      <th>1362525</th>\n",
       "      <td>313.46</td>\n",
       "      <td>1051.01</td>\n",
       "      <td>95.53</td>\n",
       "      <td>39.0</td>\n",
       "      <td>98.0</td>\n",
       "      <td>99.0</td>\n",
       "      <td>2770.85</td>\n",
       "      <td>20201.42</td>\n",
       "      <td>5220.71</td>\n",
       "      <td>71.047436</td>\n",
       "      <td>206.136939</td>\n",
       "      <td>52.734444</td>\n",
       "      <td>119.461780</td>\n",
       "    </tr>\n",
       "    <tr>\n",
       "      <th>...</th>\n",
       "      <td>...</td>\n",
       "      <td>...</td>\n",
       "      <td>...</td>\n",
       "      <td>...</td>\n",
       "      <td>...</td>\n",
       "      <td>...</td>\n",
       "      <td>...</td>\n",
       "      <td>...</td>\n",
       "      <td>...</td>\n",
       "      <td>...</td>\n",
       "      <td>...</td>\n",
       "      <td>...</td>\n",
       "      <td>...</td>\n",
       "    </tr>\n",
       "    <tr>\n",
       "      <th>1363345</th>\n",
       "      <td>0.00</td>\n",
       "      <td>2700.00</td>\n",
       "      <td>2345.06</td>\n",
       "      <td>0.0</td>\n",
       "      <td>45.0</td>\n",
       "      <td>99.0</td>\n",
       "      <td>0.00</td>\n",
       "      <td>18992.16</td>\n",
       "      <td>14726.27</td>\n",
       "      <td>0.000000</td>\n",
       "      <td>422.048000</td>\n",
       "      <td>148.750202</td>\n",
       "      <td>234.155764</td>\n",
       "    </tr>\n",
       "    <tr>\n",
       "      <th>1362937</th>\n",
       "      <td>0.00</td>\n",
       "      <td>0.00</td>\n",
       "      <td>377.30</td>\n",
       "      <td>0.0</td>\n",
       "      <td>40.0</td>\n",
       "      <td>99.0</td>\n",
       "      <td>0.00</td>\n",
       "      <td>16045.88</td>\n",
       "      <td>15940.51</td>\n",
       "      <td>0.000000</td>\n",
       "      <td>401.147000</td>\n",
       "      <td>161.015253</td>\n",
       "      <td>230.117914</td>\n",
       "    </tr>\n",
       "    <tr>\n",
       "      <th>1362508</th>\n",
       "      <td>255.11</td>\n",
       "      <td>1072.17</td>\n",
       "      <td>75.11</td>\n",
       "      <td>33.0</td>\n",
       "      <td>87.0</td>\n",
       "      <td>99.0</td>\n",
       "      <td>2749.01</td>\n",
       "      <td>17769.22</td>\n",
       "      <td>9117.73</td>\n",
       "      <td>83.303333</td>\n",
       "      <td>204.243908</td>\n",
       "      <td>92.098283</td>\n",
       "      <td>135.324018</td>\n",
       "    </tr>\n",
       "    <tr>\n",
       "      <th>1363467</th>\n",
       "      <td>0.00</td>\n",
       "      <td>1500.00</td>\n",
       "      <td>58.47</td>\n",
       "      <td>0.0</td>\n",
       "      <td>74.0</td>\n",
       "      <td>99.0</td>\n",
       "      <td>0.00</td>\n",
       "      <td>16725.60</td>\n",
       "      <td>12921.07</td>\n",
       "      <td>0.000000</td>\n",
       "      <td>226.021622</td>\n",
       "      <td>130.515859</td>\n",
       "      <td>171.368035</td>\n",
       "    </tr>\n",
       "    <tr>\n",
       "      <th>1363364</th>\n",
       "      <td>0.00</td>\n",
       "      <td>1785.97</td>\n",
       "      <td>296.28</td>\n",
       "      <td>0.0</td>\n",
       "      <td>75.0</td>\n",
       "      <td>99.0</td>\n",
       "      <td>0.00</td>\n",
       "      <td>15457.27</td>\n",
       "      <td>9901.08</td>\n",
       "      <td>0.000000</td>\n",
       "      <td>206.096933</td>\n",
       "      <td>100.010909</td>\n",
       "      <td>145.737644</td>\n",
       "    </tr>\n",
       "  </tbody>\n",
       "</table>\n",
       "<p>72 rows × 13 columns</p>\n",
       "</div>"
      ],
      "text/plain": [
       "         saving   credit  checking  num_savings_tran  num_credit_tran  \\\n",
       "cust_id                                                                 \n",
       "1362548  254.02    68.68    569.65              12.0             22.0   \n",
       "1362546  991.01  1292.63     84.83              26.0             84.0   \n",
       "1362954    0.00  1226.12    301.79               0.0             44.0   \n",
       "1363076    0.00   770.56     67.30               0.0             40.0   \n",
       "1362525  313.46  1051.01     95.53              39.0             98.0   \n",
       "...         ...      ...       ...               ...              ...   \n",
       "1363345    0.00  2700.00   2345.06               0.0             45.0   \n",
       "1362937    0.00     0.00    377.30               0.0             40.0   \n",
       "1362508  255.11  1072.17     75.11              33.0             87.0   \n",
       "1363467    0.00  1500.00     58.47               0.0             74.0   \n",
       "1363364    0.00  1785.97    296.28               0.0             75.0   \n",
       "\n",
       "         num_checking_tran  SV_tran_amt  CC_tran_amt  CH_tran_amt  \\\n",
       "cust_id                                                             \n",
       "1362548               99.0         3.78     15089.99     16817.43   \n",
       "1362546               99.0      1231.16     17114.03      9321.18   \n",
       "1362954               99.0         0.00     15461.50     16212.34   \n",
       "1363076               99.0         0.00     22161.17     14949.44   \n",
       "1362525               99.0      2770.85     20201.42      5220.71   \n",
       "...                    ...          ...          ...          ...   \n",
       "1363345               99.0         0.00     18992.16     14726.27   \n",
       "1362937               99.0         0.00     16045.88     15940.51   \n",
       "1362508               99.0      2749.01     17769.22      9117.73   \n",
       "1363467               99.0         0.00     16725.60     12921.07   \n",
       "1363364               99.0         0.00     15457.27      9901.08   \n",
       "\n",
       "         AVG_savings_amt  AVG_credit_amt  AVG_checking_amt  Total_AVG_tran_amt  \n",
       "cust_id                                                                         \n",
       "1362548         0.315000      685.908636        169.873030          239.933835  \n",
       "1362546        47.352308      203.738452         94.153333          132.374976  \n",
       "1362954         0.000000      351.397727        163.761010          221.495385  \n",
       "1363076         0.000000      554.029250        151.004444          266.982806  \n",
       "1362525        71.047436      206.136939         52.734444          119.461780  \n",
       "...                  ...             ...               ...                 ...  \n",
       "1363345         0.000000      422.048000        148.750202          234.155764  \n",
       "1362937         0.000000      401.147000        161.015253          230.117914  \n",
       "1362508        83.303333      204.243908         92.098283          135.324018  \n",
       "1363467         0.000000      226.021622        130.515859          171.368035  \n",
       "1363364         0.000000      206.096933        100.010909          145.737644  \n",
       "\n",
       "[72 rows x 13 columns]"
      ]
     },
     "execution_count": 16,
     "metadata": {},
     "output_type": "execute_result"
    }
   ],
   "source": [
    "df_f[label == 2]"
   ]
  },
  {
   "cell_type": "code",
   "execution_count": 17,
   "metadata": {},
   "outputs": [
    {
     "data": {
      "text/plain": [
       "cust_id\n",
       "1362691      0.00\n",
       "1362487     12.89\n",
       "1363160    122.54\n",
       "1362752    609.33\n",
       "1362548    254.02\n",
       "            ...  \n",
       "1363324      0.00\n",
       "1362895     96.25\n",
       "1362569      0.00\n",
       "1363364      0.00\n",
       "1363303      0.00\n",
       "Name: saving, Length: 747, dtype: float64"
      ]
     },
     "execution_count": 17,
     "metadata": {},
     "output_type": "execute_result"
    }
   ],
   "source": [
    "df_f.saving"
   ]
  },
  {
   "cell_type": "code",
   "execution_count": 28,
   "metadata": {},
   "outputs": [
    {
     "data": {
      "application/vnd.plotly.v1+json": {
       "config": {
        "plotlyServerURL": "https://plot.ly"
       },
       "data": [
        {
         "fill": "toself",
         "name": "cluster0",
         "r": [
          0.45744644375575694,
          0.2990023238889721,
          0.3251640212617502,
          0.39773766749953465
         ],
         "theta": [
          "AVG_savings_amt",
          "AVG_credit_amt",
          "AVG_checking_amt",
          "Total_AVG_tran_amt"
         ],
         "type": "scatterpolar"
        },
        {
         "fill": "toself",
         "name": "cluster1",
         "r": [
          0.2754089227437759,
          0.3918234492729921,
          0.286027668811993,
          0.32986513485970387
         ],
         "theta": [
          "AVG_savings_amt",
          "AVG_credit_amt",
          "AVG_checking_amt",
          "Total_AVG_tran_amt"
         ],
         "type": "scatterpolar"
        },
        {
         "fill": "toself",
         "name": "cluster2",
         "r": [
          0.2031254685841283,
          0.2204854212067389,
          0.3035962864890506,
          0.19455572940578586
         ],
         "theta": [
          "AVG_savings_amt",
          "AVG_credit_amt",
          "AVG_checking_amt",
          "Total_AVG_tran_amt"
         ],
         "type": "scatterpolar"
        },
        {
         "fill": "toself",
         "name": "cluster3",
         "r": [
          0.0640191649163388,
          0.08868880563129686,
          0.08521202343720617,
          0.07784146823497559
         ],
         "theta": [
          "AVG_savings_amt",
          "AVG_credit_amt",
          "AVG_checking_amt",
          "Total_AVG_tran_amt"
         ],
         "type": "scatterpolar"
        }
       ],
       "layout": {
        "polar": {
         "radialaxis": {
          "visible": true
         }
        },
        "showlegend": false,
        "template": {
         "data": {
          "bar": [
           {
            "error_x": {
             "color": "#2a3f5f"
            },
            "error_y": {
             "color": "#2a3f5f"
            },
            "marker": {
             "line": {
              "color": "#E5ECF6",
              "width": 0.5
             }
            },
            "type": "bar"
           }
          ],
          "barpolar": [
           {
            "marker": {
             "line": {
              "color": "#E5ECF6",
              "width": 0.5
             }
            },
            "type": "barpolar"
           }
          ],
          "carpet": [
           {
            "aaxis": {
             "endlinecolor": "#2a3f5f",
             "gridcolor": "white",
             "linecolor": "white",
             "minorgridcolor": "white",
             "startlinecolor": "#2a3f5f"
            },
            "baxis": {
             "endlinecolor": "#2a3f5f",
             "gridcolor": "white",
             "linecolor": "white",
             "minorgridcolor": "white",
             "startlinecolor": "#2a3f5f"
            },
            "type": "carpet"
           }
          ],
          "choropleth": [
           {
            "colorbar": {
             "outlinewidth": 0,
             "ticks": ""
            },
            "type": "choropleth"
           }
          ],
          "contour": [
           {
            "colorbar": {
             "outlinewidth": 0,
             "ticks": ""
            },
            "colorscale": [
             [
              0,
              "#0d0887"
             ],
             [
              0.1111111111111111,
              "#46039f"
             ],
             [
              0.2222222222222222,
              "#7201a8"
             ],
             [
              0.3333333333333333,
              "#9c179e"
             ],
             [
              0.4444444444444444,
              "#bd3786"
             ],
             [
              0.5555555555555556,
              "#d8576b"
             ],
             [
              0.6666666666666666,
              "#ed7953"
             ],
             [
              0.7777777777777778,
              "#fb9f3a"
             ],
             [
              0.8888888888888888,
              "#fdca26"
             ],
             [
              1,
              "#f0f921"
             ]
            ],
            "type": "contour"
           }
          ],
          "contourcarpet": [
           {
            "colorbar": {
             "outlinewidth": 0,
             "ticks": ""
            },
            "type": "contourcarpet"
           }
          ],
          "heatmap": [
           {
            "colorbar": {
             "outlinewidth": 0,
             "ticks": ""
            },
            "colorscale": [
             [
              0,
              "#0d0887"
             ],
             [
              0.1111111111111111,
              "#46039f"
             ],
             [
              0.2222222222222222,
              "#7201a8"
             ],
             [
              0.3333333333333333,
              "#9c179e"
             ],
             [
              0.4444444444444444,
              "#bd3786"
             ],
             [
              0.5555555555555556,
              "#d8576b"
             ],
             [
              0.6666666666666666,
              "#ed7953"
             ],
             [
              0.7777777777777778,
              "#fb9f3a"
             ],
             [
              0.8888888888888888,
              "#fdca26"
             ],
             [
              1,
              "#f0f921"
             ]
            ],
            "type": "heatmap"
           }
          ],
          "heatmapgl": [
           {
            "colorbar": {
             "outlinewidth": 0,
             "ticks": ""
            },
            "colorscale": [
             [
              0,
              "#0d0887"
             ],
             [
              0.1111111111111111,
              "#46039f"
             ],
             [
              0.2222222222222222,
              "#7201a8"
             ],
             [
              0.3333333333333333,
              "#9c179e"
             ],
             [
              0.4444444444444444,
              "#bd3786"
             ],
             [
              0.5555555555555556,
              "#d8576b"
             ],
             [
              0.6666666666666666,
              "#ed7953"
             ],
             [
              0.7777777777777778,
              "#fb9f3a"
             ],
             [
              0.8888888888888888,
              "#fdca26"
             ],
             [
              1,
              "#f0f921"
             ]
            ],
            "type": "heatmapgl"
           }
          ],
          "histogram": [
           {
            "marker": {
             "colorbar": {
              "outlinewidth": 0,
              "ticks": ""
             }
            },
            "type": "histogram"
           }
          ],
          "histogram2d": [
           {
            "colorbar": {
             "outlinewidth": 0,
             "ticks": ""
            },
            "colorscale": [
             [
              0,
              "#0d0887"
             ],
             [
              0.1111111111111111,
              "#46039f"
             ],
             [
              0.2222222222222222,
              "#7201a8"
             ],
             [
              0.3333333333333333,
              "#9c179e"
             ],
             [
              0.4444444444444444,
              "#bd3786"
             ],
             [
              0.5555555555555556,
              "#d8576b"
             ],
             [
              0.6666666666666666,
              "#ed7953"
             ],
             [
              0.7777777777777778,
              "#fb9f3a"
             ],
             [
              0.8888888888888888,
              "#fdca26"
             ],
             [
              1,
              "#f0f921"
             ]
            ],
            "type": "histogram2d"
           }
          ],
          "histogram2dcontour": [
           {
            "colorbar": {
             "outlinewidth": 0,
             "ticks": ""
            },
            "colorscale": [
             [
              0,
              "#0d0887"
             ],
             [
              0.1111111111111111,
              "#46039f"
             ],
             [
              0.2222222222222222,
              "#7201a8"
             ],
             [
              0.3333333333333333,
              "#9c179e"
             ],
             [
              0.4444444444444444,
              "#bd3786"
             ],
             [
              0.5555555555555556,
              "#d8576b"
             ],
             [
              0.6666666666666666,
              "#ed7953"
             ],
             [
              0.7777777777777778,
              "#fb9f3a"
             ],
             [
              0.8888888888888888,
              "#fdca26"
             ],
             [
              1,
              "#f0f921"
             ]
            ],
            "type": "histogram2dcontour"
           }
          ],
          "mesh3d": [
           {
            "colorbar": {
             "outlinewidth": 0,
             "ticks": ""
            },
            "type": "mesh3d"
           }
          ],
          "parcoords": [
           {
            "line": {
             "colorbar": {
              "outlinewidth": 0,
              "ticks": ""
             }
            },
            "type": "parcoords"
           }
          ],
          "pie": [
           {
            "automargin": true,
            "type": "pie"
           }
          ],
          "scatter": [
           {
            "marker": {
             "colorbar": {
              "outlinewidth": 0,
              "ticks": ""
             }
            },
            "type": "scatter"
           }
          ],
          "scatter3d": [
           {
            "line": {
             "colorbar": {
              "outlinewidth": 0,
              "ticks": ""
             }
            },
            "marker": {
             "colorbar": {
              "outlinewidth": 0,
              "ticks": ""
             }
            },
            "type": "scatter3d"
           }
          ],
          "scattercarpet": [
           {
            "marker": {
             "colorbar": {
              "outlinewidth": 0,
              "ticks": ""
             }
            },
            "type": "scattercarpet"
           }
          ],
          "scattergeo": [
           {
            "marker": {
             "colorbar": {
              "outlinewidth": 0,
              "ticks": ""
             }
            },
            "type": "scattergeo"
           }
          ],
          "scattergl": [
           {
            "marker": {
             "colorbar": {
              "outlinewidth": 0,
              "ticks": ""
             }
            },
            "type": "scattergl"
           }
          ],
          "scattermapbox": [
           {
            "marker": {
             "colorbar": {
              "outlinewidth": 0,
              "ticks": ""
             }
            },
            "type": "scattermapbox"
           }
          ],
          "scatterpolar": [
           {
            "marker": {
             "colorbar": {
              "outlinewidth": 0,
              "ticks": ""
             }
            },
            "type": "scatterpolar"
           }
          ],
          "scatterpolargl": [
           {
            "marker": {
             "colorbar": {
              "outlinewidth": 0,
              "ticks": ""
             }
            },
            "type": "scatterpolargl"
           }
          ],
          "scatterternary": [
           {
            "marker": {
             "colorbar": {
              "outlinewidth": 0,
              "ticks": ""
             }
            },
            "type": "scatterternary"
           }
          ],
          "surface": [
           {
            "colorbar": {
             "outlinewidth": 0,
             "ticks": ""
            },
            "colorscale": [
             [
              0,
              "#0d0887"
             ],
             [
              0.1111111111111111,
              "#46039f"
             ],
             [
              0.2222222222222222,
              "#7201a8"
             ],
             [
              0.3333333333333333,
              "#9c179e"
             ],
             [
              0.4444444444444444,
              "#bd3786"
             ],
             [
              0.5555555555555556,
              "#d8576b"
             ],
             [
              0.6666666666666666,
              "#ed7953"
             ],
             [
              0.7777777777777778,
              "#fb9f3a"
             ],
             [
              0.8888888888888888,
              "#fdca26"
             ],
             [
              1,
              "#f0f921"
             ]
            ],
            "type": "surface"
           }
          ],
          "table": [
           {
            "cells": {
             "fill": {
              "color": "#EBF0F8"
             },
             "line": {
              "color": "white"
             }
            },
            "header": {
             "fill": {
              "color": "#C8D4E3"
             },
             "line": {
              "color": "white"
             }
            },
            "type": "table"
           }
          ]
         },
         "layout": {
          "annotationdefaults": {
           "arrowcolor": "#2a3f5f",
           "arrowhead": 0,
           "arrowwidth": 1
          },
          "autotypenumbers": "strict",
          "coloraxis": {
           "colorbar": {
            "outlinewidth": 0,
            "ticks": ""
           }
          },
          "colorscale": {
           "diverging": [
            [
             0,
             "#8e0152"
            ],
            [
             0.1,
             "#c51b7d"
            ],
            [
             0.2,
             "#de77ae"
            ],
            [
             0.3,
             "#f1b6da"
            ],
            [
             0.4,
             "#fde0ef"
            ],
            [
             0.5,
             "#f7f7f7"
            ],
            [
             0.6,
             "#e6f5d0"
            ],
            [
             0.7,
             "#b8e186"
            ],
            [
             0.8,
             "#7fbc41"
            ],
            [
             0.9,
             "#4d9221"
            ],
            [
             1,
             "#276419"
            ]
           ],
           "sequential": [
            [
             0,
             "#0d0887"
            ],
            [
             0.1111111111111111,
             "#46039f"
            ],
            [
             0.2222222222222222,
             "#7201a8"
            ],
            [
             0.3333333333333333,
             "#9c179e"
            ],
            [
             0.4444444444444444,
             "#bd3786"
            ],
            [
             0.5555555555555556,
             "#d8576b"
            ],
            [
             0.6666666666666666,
             "#ed7953"
            ],
            [
             0.7777777777777778,
             "#fb9f3a"
            ],
            [
             0.8888888888888888,
             "#fdca26"
            ],
            [
             1,
             "#f0f921"
            ]
           ],
           "sequentialminus": [
            [
             0,
             "#0d0887"
            ],
            [
             0.1111111111111111,
             "#46039f"
            ],
            [
             0.2222222222222222,
             "#7201a8"
            ],
            [
             0.3333333333333333,
             "#9c179e"
            ],
            [
             0.4444444444444444,
             "#bd3786"
            ],
            [
             0.5555555555555556,
             "#d8576b"
            ],
            [
             0.6666666666666666,
             "#ed7953"
            ],
            [
             0.7777777777777778,
             "#fb9f3a"
            ],
            [
             0.8888888888888888,
             "#fdca26"
            ],
            [
             1,
             "#f0f921"
            ]
           ]
          },
          "colorway": [
           "#636efa",
           "#EF553B",
           "#00cc96",
           "#ab63fa",
           "#FFA15A",
           "#19d3f3",
           "#FF6692",
           "#B6E880",
           "#FF97FF",
           "#FECB52"
          ],
          "font": {
           "color": "#2a3f5f"
          },
          "geo": {
           "bgcolor": "white",
           "lakecolor": "white",
           "landcolor": "#E5ECF6",
           "showlakes": true,
           "showland": true,
           "subunitcolor": "white"
          },
          "hoverlabel": {
           "align": "left"
          },
          "hovermode": "closest",
          "mapbox": {
           "style": "light"
          },
          "paper_bgcolor": "white",
          "plot_bgcolor": "#E5ECF6",
          "polar": {
           "angularaxis": {
            "gridcolor": "white",
            "linecolor": "white",
            "ticks": ""
           },
           "bgcolor": "#E5ECF6",
           "radialaxis": {
            "gridcolor": "white",
            "linecolor": "white",
            "ticks": ""
           }
          },
          "scene": {
           "xaxis": {
            "backgroundcolor": "#E5ECF6",
            "gridcolor": "white",
            "gridwidth": 2,
            "linecolor": "white",
            "showbackground": true,
            "ticks": "",
            "zerolinecolor": "white"
           },
           "yaxis": {
            "backgroundcolor": "#E5ECF6",
            "gridcolor": "white",
            "gridwidth": 2,
            "linecolor": "white",
            "showbackground": true,
            "ticks": "",
            "zerolinecolor": "white"
           },
           "zaxis": {
            "backgroundcolor": "#E5ECF6",
            "gridcolor": "white",
            "gridwidth": 2,
            "linecolor": "white",
            "showbackground": true,
            "ticks": "",
            "zerolinecolor": "white"
           }
          },
          "shapedefaults": {
           "line": {
            "color": "#2a3f5f"
           }
          },
          "ternary": {
           "aaxis": {
            "gridcolor": "white",
            "linecolor": "white",
            "ticks": ""
           },
           "baxis": {
            "gridcolor": "white",
            "linecolor": "white",
            "ticks": ""
           },
           "bgcolor": "#E5ECF6",
           "caxis": {
            "gridcolor": "white",
            "linecolor": "white",
            "ticks": ""
           }
          },
          "title": {
           "x": 0.05
          },
          "xaxis": {
           "automargin": true,
           "gridcolor": "white",
           "linecolor": "white",
           "ticks": "",
           "title": {
            "standoff": 15
           },
           "zerolinecolor": "white",
           "zerolinewidth": 2
          },
          "yaxis": {
           "automargin": true,
           "gridcolor": "white",
           "linecolor": "white",
           "ticks": "",
           "title": {
            "standoff": 15
           },
           "zerolinecolor": "white",
           "zerolinewidth": 2
          }
         }
        }
       }
      },
      "text/html": [
       "<div>                            <div id=\"757b9122-6e3e-4d4a-91bf-dcd4d5c7c727\" class=\"plotly-graph-div\" style=\"height:525px; width:100%;\"></div>            <script type=\"text/javascript\">                require([\"plotly\"], function(Plotly) {                    window.PLOTLYENV=window.PLOTLYENV || {};                                    if (document.getElementById(\"757b9122-6e3e-4d4a-91bf-dcd4d5c7c727\")) {                    Plotly.newPlot(                        \"757b9122-6e3e-4d4a-91bf-dcd4d5c7c727\",                        [{\"fill\": \"toself\", \"name\": \"cluster0\", \"r\": [0.45744644375575694, 0.2990023238889721, 0.3251640212617502, 0.39773766749953465], \"theta\": [\"AVG_savings_amt\", \"AVG_credit_amt\", \"AVG_checking_amt\", \"Total_AVG_tran_amt\"], \"type\": \"scatterpolar\"}, {\"fill\": \"toself\", \"name\": \"cluster1\", \"r\": [0.2754089227437759, 0.3918234492729921, 0.286027668811993, 0.32986513485970387], \"theta\": [\"AVG_savings_amt\", \"AVG_credit_amt\", \"AVG_checking_amt\", \"Total_AVG_tran_amt\"], \"type\": \"scatterpolar\"}, {\"fill\": \"toself\", \"name\": \"cluster2\", \"r\": [0.2031254685841283, 0.2204854212067389, 0.3035962864890506, 0.19455572940578586], \"theta\": [\"AVG_savings_amt\", \"AVG_credit_amt\", \"AVG_checking_amt\", \"Total_AVG_tran_amt\"], \"type\": \"scatterpolar\"}, {\"fill\": \"toself\", \"name\": \"cluster3\", \"r\": [0.0640191649163388, 0.08868880563129686, 0.08521202343720617, 0.07784146823497559], \"theta\": [\"AVG_savings_amt\", \"AVG_credit_amt\", \"AVG_checking_amt\", \"Total_AVG_tran_amt\"], \"type\": \"scatterpolar\"}],                        {\"polar\": {\"radialaxis\": {\"visible\": true}}, \"showlegend\": false, \"template\": {\"data\": {\"bar\": [{\"error_x\": {\"color\": \"#2a3f5f\"}, \"error_y\": {\"color\": \"#2a3f5f\"}, \"marker\": {\"line\": {\"color\": \"#E5ECF6\", \"width\": 0.5}}, \"type\": \"bar\"}], \"barpolar\": [{\"marker\": {\"line\": {\"color\": \"#E5ECF6\", \"width\": 0.5}}, \"type\": \"barpolar\"}], \"carpet\": [{\"aaxis\": {\"endlinecolor\": \"#2a3f5f\", \"gridcolor\": \"white\", \"linecolor\": \"white\", \"minorgridcolor\": \"white\", \"startlinecolor\": \"#2a3f5f\"}, \"baxis\": {\"endlinecolor\": \"#2a3f5f\", \"gridcolor\": \"white\", \"linecolor\": \"white\", \"minorgridcolor\": \"white\", \"startlinecolor\": \"#2a3f5f\"}, \"type\": \"carpet\"}], \"choropleth\": [{\"colorbar\": {\"outlinewidth\": 0, \"ticks\": \"\"}, \"type\": \"choropleth\"}], \"contour\": [{\"colorbar\": {\"outlinewidth\": 0, \"ticks\": \"\"}, \"colorscale\": [[0.0, \"#0d0887\"], [0.1111111111111111, \"#46039f\"], [0.2222222222222222, \"#7201a8\"], [0.3333333333333333, \"#9c179e\"], [0.4444444444444444, \"#bd3786\"], [0.5555555555555556, \"#d8576b\"], [0.6666666666666666, \"#ed7953\"], [0.7777777777777778, \"#fb9f3a\"], [0.8888888888888888, \"#fdca26\"], [1.0, \"#f0f921\"]], \"type\": \"contour\"}], \"contourcarpet\": [{\"colorbar\": {\"outlinewidth\": 0, \"ticks\": \"\"}, \"type\": \"contourcarpet\"}], \"heatmap\": [{\"colorbar\": {\"outlinewidth\": 0, \"ticks\": \"\"}, \"colorscale\": [[0.0, \"#0d0887\"], [0.1111111111111111, \"#46039f\"], [0.2222222222222222, \"#7201a8\"], [0.3333333333333333, \"#9c179e\"], [0.4444444444444444, \"#bd3786\"], [0.5555555555555556, \"#d8576b\"], [0.6666666666666666, \"#ed7953\"], [0.7777777777777778, \"#fb9f3a\"], [0.8888888888888888, \"#fdca26\"], [1.0, \"#f0f921\"]], \"type\": \"heatmap\"}], \"heatmapgl\": [{\"colorbar\": {\"outlinewidth\": 0, \"ticks\": \"\"}, \"colorscale\": [[0.0, \"#0d0887\"], [0.1111111111111111, \"#46039f\"], [0.2222222222222222, \"#7201a8\"], [0.3333333333333333, \"#9c179e\"], [0.4444444444444444, \"#bd3786\"], [0.5555555555555556, \"#d8576b\"], [0.6666666666666666, \"#ed7953\"], [0.7777777777777778, \"#fb9f3a\"], [0.8888888888888888, \"#fdca26\"], [1.0, \"#f0f921\"]], \"type\": \"heatmapgl\"}], \"histogram\": [{\"marker\": {\"colorbar\": {\"outlinewidth\": 0, \"ticks\": \"\"}}, \"type\": \"histogram\"}], \"histogram2d\": [{\"colorbar\": {\"outlinewidth\": 0, \"ticks\": \"\"}, \"colorscale\": [[0.0, \"#0d0887\"], [0.1111111111111111, \"#46039f\"], [0.2222222222222222, \"#7201a8\"], [0.3333333333333333, \"#9c179e\"], [0.4444444444444444, \"#bd3786\"], [0.5555555555555556, \"#d8576b\"], [0.6666666666666666, \"#ed7953\"], [0.7777777777777778, \"#fb9f3a\"], [0.8888888888888888, \"#fdca26\"], [1.0, \"#f0f921\"]], \"type\": \"histogram2d\"}], \"histogram2dcontour\": [{\"colorbar\": {\"outlinewidth\": 0, \"ticks\": \"\"}, \"colorscale\": [[0.0, \"#0d0887\"], [0.1111111111111111, \"#46039f\"], [0.2222222222222222, \"#7201a8\"], [0.3333333333333333, \"#9c179e\"], [0.4444444444444444, \"#bd3786\"], [0.5555555555555556, \"#d8576b\"], [0.6666666666666666, \"#ed7953\"], [0.7777777777777778, \"#fb9f3a\"], [0.8888888888888888, \"#fdca26\"], [1.0, \"#f0f921\"]], \"type\": \"histogram2dcontour\"}], \"mesh3d\": [{\"colorbar\": {\"outlinewidth\": 0, \"ticks\": \"\"}, \"type\": \"mesh3d\"}], \"parcoords\": [{\"line\": {\"colorbar\": {\"outlinewidth\": 0, \"ticks\": \"\"}}, \"type\": \"parcoords\"}], \"pie\": [{\"automargin\": true, \"type\": \"pie\"}], \"scatter\": [{\"marker\": {\"colorbar\": {\"outlinewidth\": 0, \"ticks\": \"\"}}, \"type\": \"scatter\"}], \"scatter3d\": [{\"line\": {\"colorbar\": {\"outlinewidth\": 0, \"ticks\": \"\"}}, \"marker\": {\"colorbar\": {\"outlinewidth\": 0, \"ticks\": \"\"}}, \"type\": \"scatter3d\"}], \"scattercarpet\": [{\"marker\": {\"colorbar\": {\"outlinewidth\": 0, \"ticks\": \"\"}}, \"type\": \"scattercarpet\"}], \"scattergeo\": [{\"marker\": {\"colorbar\": {\"outlinewidth\": 0, \"ticks\": \"\"}}, \"type\": \"scattergeo\"}], \"scattergl\": [{\"marker\": {\"colorbar\": {\"outlinewidth\": 0, \"ticks\": \"\"}}, \"type\": \"scattergl\"}], \"scattermapbox\": [{\"marker\": {\"colorbar\": {\"outlinewidth\": 0, \"ticks\": \"\"}}, \"type\": \"scattermapbox\"}], \"scatterpolar\": [{\"marker\": {\"colorbar\": {\"outlinewidth\": 0, \"ticks\": \"\"}}, \"type\": \"scatterpolar\"}], \"scatterpolargl\": [{\"marker\": {\"colorbar\": {\"outlinewidth\": 0, \"ticks\": \"\"}}, \"type\": \"scatterpolargl\"}], \"scatterternary\": [{\"marker\": {\"colorbar\": {\"outlinewidth\": 0, \"ticks\": \"\"}}, \"type\": \"scatterternary\"}], \"surface\": [{\"colorbar\": {\"outlinewidth\": 0, \"ticks\": \"\"}, \"colorscale\": [[0.0, \"#0d0887\"], [0.1111111111111111, \"#46039f\"], [0.2222222222222222, \"#7201a8\"], [0.3333333333333333, \"#9c179e\"], [0.4444444444444444, \"#bd3786\"], [0.5555555555555556, \"#d8576b\"], [0.6666666666666666, \"#ed7953\"], [0.7777777777777778, \"#fb9f3a\"], [0.8888888888888888, \"#fdca26\"], [1.0, \"#f0f921\"]], \"type\": \"surface\"}], \"table\": [{\"cells\": {\"fill\": {\"color\": \"#EBF0F8\"}, \"line\": {\"color\": \"white\"}}, \"header\": {\"fill\": {\"color\": \"#C8D4E3\"}, \"line\": {\"color\": \"white\"}}, \"type\": \"table\"}]}, \"layout\": {\"annotationdefaults\": {\"arrowcolor\": \"#2a3f5f\", \"arrowhead\": 0, \"arrowwidth\": 1}, \"autotypenumbers\": \"strict\", \"coloraxis\": {\"colorbar\": {\"outlinewidth\": 0, \"ticks\": \"\"}}, \"colorscale\": {\"diverging\": [[0, \"#8e0152\"], [0.1, \"#c51b7d\"], [0.2, \"#de77ae\"], [0.3, \"#f1b6da\"], [0.4, \"#fde0ef\"], [0.5, \"#f7f7f7\"], [0.6, \"#e6f5d0\"], [0.7, \"#b8e186\"], [0.8, \"#7fbc41\"], [0.9, \"#4d9221\"], [1, \"#276419\"]], \"sequential\": [[0.0, \"#0d0887\"], [0.1111111111111111, \"#46039f\"], [0.2222222222222222, \"#7201a8\"], [0.3333333333333333, \"#9c179e\"], [0.4444444444444444, \"#bd3786\"], [0.5555555555555556, \"#d8576b\"], [0.6666666666666666, \"#ed7953\"], [0.7777777777777778, \"#fb9f3a\"], [0.8888888888888888, \"#fdca26\"], [1.0, \"#f0f921\"]], \"sequentialminus\": [[0.0, \"#0d0887\"], [0.1111111111111111, \"#46039f\"], [0.2222222222222222, \"#7201a8\"], [0.3333333333333333, \"#9c179e\"], [0.4444444444444444, \"#bd3786\"], [0.5555555555555556, \"#d8576b\"], [0.6666666666666666, \"#ed7953\"], [0.7777777777777778, \"#fb9f3a\"], [0.8888888888888888, \"#fdca26\"], [1.0, \"#f0f921\"]]}, \"colorway\": [\"#636efa\", \"#EF553B\", \"#00cc96\", \"#ab63fa\", \"#FFA15A\", \"#19d3f3\", \"#FF6692\", \"#B6E880\", \"#FF97FF\", \"#FECB52\"], \"font\": {\"color\": \"#2a3f5f\"}, \"geo\": {\"bgcolor\": \"white\", \"lakecolor\": \"white\", \"landcolor\": \"#E5ECF6\", \"showlakes\": true, \"showland\": true, \"subunitcolor\": \"white\"}, \"hoverlabel\": {\"align\": \"left\"}, \"hovermode\": \"closest\", \"mapbox\": {\"style\": \"light\"}, \"paper_bgcolor\": \"white\", \"plot_bgcolor\": \"#E5ECF6\", \"polar\": {\"angularaxis\": {\"gridcolor\": \"white\", \"linecolor\": \"white\", \"ticks\": \"\"}, \"bgcolor\": \"#E5ECF6\", \"radialaxis\": {\"gridcolor\": \"white\", \"linecolor\": \"white\", \"ticks\": \"\"}}, \"scene\": {\"xaxis\": {\"backgroundcolor\": \"#E5ECF6\", \"gridcolor\": \"white\", \"gridwidth\": 2, \"linecolor\": \"white\", \"showbackground\": true, \"ticks\": \"\", \"zerolinecolor\": \"white\"}, \"yaxis\": {\"backgroundcolor\": \"#E5ECF6\", \"gridcolor\": \"white\", \"gridwidth\": 2, \"linecolor\": \"white\", \"showbackground\": true, \"ticks\": \"\", \"zerolinecolor\": \"white\"}, \"zaxis\": {\"backgroundcolor\": \"#E5ECF6\", \"gridcolor\": \"white\", \"gridwidth\": 2, \"linecolor\": \"white\", \"showbackground\": true, \"ticks\": \"\", \"zerolinecolor\": \"white\"}}, \"shapedefaults\": {\"line\": {\"color\": \"#2a3f5f\"}}, \"ternary\": {\"aaxis\": {\"gridcolor\": \"white\", \"linecolor\": \"white\", \"ticks\": \"\"}, \"baxis\": {\"gridcolor\": \"white\", \"linecolor\": \"white\", \"ticks\": \"\"}, \"bgcolor\": \"#E5ECF6\", \"caxis\": {\"gridcolor\": \"white\", \"linecolor\": \"white\", \"ticks\": \"\"}}, \"title\": {\"x\": 0.05}, \"xaxis\": {\"automargin\": true, \"gridcolor\": \"white\", \"linecolor\": \"white\", \"ticks\": \"\", \"title\": {\"standoff\": 15}, \"zerolinecolor\": \"white\", \"zerolinewidth\": 2}, \"yaxis\": {\"automargin\": true, \"gridcolor\": \"white\", \"linecolor\": \"white\", \"ticks\": \"\", \"title\": {\"standoff\": 15}, \"zerolinecolor\": \"white\", \"zerolinewidth\": 2}}}},                        {\"responsive\": true}                    ).then(function(){\n",
       "                            \n",
       "var gd = document.getElementById('757b9122-6e3e-4d4a-91bf-dcd4d5c7c727');\n",
       "var x = new MutationObserver(function (mutations, observer) {{\n",
       "        var display = window.getComputedStyle(gd).display;\n",
       "        if (!display || display === 'none') {{\n",
       "            console.log([gd, 'removed!']);\n",
       "            Plotly.purge(gd);\n",
       "            observer.disconnect();\n",
       "        }}\n",
       "}});\n",
       "\n",
       "// Listen for the removal of the full notebook cells\n",
       "var notebookContainer = gd.closest('#notebook-container');\n",
       "if (notebookContainer) {{\n",
       "    x.observe(notebookContainer, {childList: true});\n",
       "}}\n",
       "\n",
       "// Listen for the clearing of the current output cell\n",
       "var outputEl = gd.closest('.output');\n",
       "if (outputEl) {{\n",
       "    x.observe(outputEl, {childList: true});\n",
       "}}\n",
       "\n",
       "                        })                };                });            </script>        </div>"
      ]
     },
     "metadata": {},
     "output_type": "display_data"
    }
   ],
   "source": [
    "import plotly.graph_objects as go\n",
    "\n",
    "categories = ['AVG_savings_amt','AVG_credit_amt','AVG_checking_amt','Total_AVG_tran_amt']\n",
    "\n",
    "fig = go.Figure()\n",
    "\n",
    "fig.add_trace(go.Scatterpolar(\n",
    "      r=[df_f[label==0][i].sum()/df_f[i].sum() for i in categories],\n",
    "      theta=categories,\n",
    "      fill='toself',\n",
    "      name='cluster0'\n",
    "))\n",
    "fig.add_trace(go.Scatterpolar(\n",
    "      r=[df_f[label==1][i].sum()/df_f[i].sum() for i in categories],\n",
    "      theta=categories,\n",
    "      fill='toself',\n",
    "      name='cluster1'\n",
    "))\n",
    "\n",
    "\n",
    "fig.add_trace(go.Scatterpolar(\n",
    "      r=[df_f[label==2][i].sum()/df_f[i].sum() for i in categories],\n",
    "      theta=categories,\n",
    "      fill='toself',\n",
    "      name='cluster2'\n",
    "))\n",
    "\n",
    "\n",
    "\n",
    "\n",
    "\n",
    "fig.add_trace(go.Scatterpolar(\n",
    "      r=[df_f[label==3][i].sum()/df_f[i].sum() for i in categories],\n",
    "      theta=categories,\n",
    "      fill='toself',\n",
    "      name='cluster3'\n",
    "))\n",
    "\n",
    "\n",
    "\n",
    "\n",
    "\n",
    "\n",
    "\n",
    "\n",
    "\n",
    "\n",
    "fig.update_layout(\n",
    "  polar=dict(\n",
    "    radialaxis=dict(\n",
    "      visible=True\n",
    "    )),\n",
    "  showlegend=False\n",
    ")\n",
    "\n",
    "fig.show()"
   ]
  },
  {
   "cell_type": "code",
   "execution_count": 30,
   "metadata": {},
   "outputs": [
    {
     "data": {
      "text/plain": [
       "Index(['saving', 'credit', 'checking', 'num_savings_tran', 'num_credit_tran',\n",
       "       'num_checking_tran', 'SV_tran_amt', 'CC_tran_amt', 'CH_tran_amt',\n",
       "       'AVG_savings_amt', 'AVG_credit_amt', 'AVG_checking_amt',\n",
       "       'Total_AVG_tran_amt'],\n",
       "      dtype='object')"
      ]
     },
     "execution_count": 30,
     "metadata": {},
     "output_type": "execute_result"
    }
   ],
   "source": [
    "df_f.columns"
   ]
  },
  {
   "cell_type": "code",
   "execution_count": 109,
   "metadata": {},
   "outputs": [
    {
     "data": {
      "application/vnd.plotly.v1+json": {
       "config": {
        "plotlyServerURL": "https://plot.ly"
       },
       "data": [
        {
         "fill": "toself",
         "name": "cluster0",
         "r": [
          0.42765571571085054,
          0.5692197694163911,
          0.43734157453108025,
          0.45744644375575694,
          0.3875966850990563,
          0.4547874642888062,
          0.29734397770245286,
          0.3251640212617502,
          0.3389782154500861,
          0.30867258392423264,
          0.1855044120322018,
          0.2990023238889721,
          0.39773766749953465
         ],
         "theta": [
          "saving",
          "num_savings_tran",
          "SV_tran_amt",
          "AVG_savings_amt",
          "checking",
          "num_checking_tran",
          "CH_tran_amt",
          "AVG_checking_amt",
          "credit",
          "num_credit_tran",
          "CC_tran_amt",
          "AVG_credit_amt",
          "Total_AVG_tran_amt"
         ],
         "type": "scatterpolar"
        },
        {
         "fill": "toself",
         "name": "cluster1",
         "r": [
          0.25481468603498764,
          0.28760389668424347,
          0.28129099432634325,
          0.2754089227437759,
          0.26005481092398824,
          0.3408795775257554,
          0.2949556511143179,
          0.286027668811993,
          0.41096428053419054,
          0.5420736847324837,
          0.5586357568528754,
          0.3918234492729921,
          0.32986513485970387
         ],
         "theta": [
          "saving",
          "num_savings_tran",
          "SV_tran_amt",
          "AVG_savings_amt",
          "checking",
          "num_checking_tran",
          "CH_tran_amt",
          "AVG_checking_amt",
          "credit",
          "num_credit_tran",
          "CC_tran_amt",
          "AVG_credit_amt",
          "Total_AVG_tran_amt"
         ],
         "type": "scatterpolar"
        },
        {
         "fill": "toself",
         "name": "cluster2",
         "r": [
          0.23980438391803754,
          0.11412994905710966,
          0.2022884467234192,
          0.2031254685841283,
          0.25337691180631755,
          0.17005021210284824,
          0.3164707857648239,
          0.3035962864890506,
          0.18403533796915636,
          0.08627956562701443,
          0.09892320110985182,
          0.2204854212067389,
          0.19455572940578586
         ],
         "theta": [
          "saving",
          "num_savings_tran",
          "SV_tran_amt",
          "AVG_savings_amt",
          "checking",
          "num_checking_tran",
          "CH_tran_amt",
          "AVG_checking_amt",
          "credit",
          "num_credit_tran",
          "CC_tran_amt",
          "AVG_credit_amt",
          "Total_AVG_tran_amt"
         ],
         "type": "scatterpolar"
        },
        {
         "fill": "toself",
         "name": "cluster3",
         "r": [
          0.07772521433612418,
          0.029046384842255787,
          0.07907898441915737,
          0.0640191649163388,
          0.09897159217063795,
          0.03428274608259025,
          0.09122958541840535,
          0.08521202343720617,
          0.06602216604656704,
          0.06297416571626915,
          0.15693663000507105,
          0.08868880563129686,
          0.07784146823497559
         ],
         "theta": [
          "saving",
          "num_savings_tran",
          "SV_tran_amt",
          "AVG_savings_amt",
          "checking",
          "num_checking_tran",
          "CH_tran_amt",
          "AVG_checking_amt",
          "credit",
          "num_credit_tran",
          "CC_tran_amt",
          "AVG_credit_amt",
          "Total_AVG_tran_amt"
         ],
         "type": "scatterpolar"
        },
        {
         "fill": "toself",
         "name": "cluster4",
         "r": [
          0,
          0,
          0,
          0,
          0,
          0,
          0,
          0,
          0,
          0,
          0,
          0,
          0
         ],
         "theta": [
          "saving",
          "num_savings_tran",
          "SV_tran_amt",
          "AVG_savings_amt",
          "checking",
          "num_checking_tran",
          "CH_tran_amt",
          "AVG_checking_amt",
          "credit",
          "num_credit_tran",
          "CC_tran_amt",
          "AVG_credit_amt",
          "Total_AVG_tran_amt"
         ],
         "type": "scatterpolar"
        }
       ],
       "layout": {
        "height": 1500,
        "polar": {
         "radialaxis": {
          "visible": true
         }
        },
        "showlegend": true,
        "template": {
         "data": {
          "bar": [
           {
            "error_x": {
             "color": "#2a3f5f"
            },
            "error_y": {
             "color": "#2a3f5f"
            },
            "marker": {
             "line": {
              "color": "#E5ECF6",
              "width": 0.5
             }
            },
            "type": "bar"
           }
          ],
          "barpolar": [
           {
            "marker": {
             "line": {
              "color": "#E5ECF6",
              "width": 0.5
             }
            },
            "type": "barpolar"
           }
          ],
          "carpet": [
           {
            "aaxis": {
             "endlinecolor": "#2a3f5f",
             "gridcolor": "white",
             "linecolor": "white",
             "minorgridcolor": "white",
             "startlinecolor": "#2a3f5f"
            },
            "baxis": {
             "endlinecolor": "#2a3f5f",
             "gridcolor": "white",
             "linecolor": "white",
             "minorgridcolor": "white",
             "startlinecolor": "#2a3f5f"
            },
            "type": "carpet"
           }
          ],
          "choropleth": [
           {
            "colorbar": {
             "outlinewidth": 0,
             "ticks": ""
            },
            "type": "choropleth"
           }
          ],
          "contour": [
           {
            "colorbar": {
             "outlinewidth": 0,
             "ticks": ""
            },
            "colorscale": [
             [
              0,
              "#0d0887"
             ],
             [
              0.1111111111111111,
              "#46039f"
             ],
             [
              0.2222222222222222,
              "#7201a8"
             ],
             [
              0.3333333333333333,
              "#9c179e"
             ],
             [
              0.4444444444444444,
              "#bd3786"
             ],
             [
              0.5555555555555556,
              "#d8576b"
             ],
             [
              0.6666666666666666,
              "#ed7953"
             ],
             [
              0.7777777777777778,
              "#fb9f3a"
             ],
             [
              0.8888888888888888,
              "#fdca26"
             ],
             [
              1,
              "#f0f921"
             ]
            ],
            "type": "contour"
           }
          ],
          "contourcarpet": [
           {
            "colorbar": {
             "outlinewidth": 0,
             "ticks": ""
            },
            "type": "contourcarpet"
           }
          ],
          "heatmap": [
           {
            "colorbar": {
             "outlinewidth": 0,
             "ticks": ""
            },
            "colorscale": [
             [
              0,
              "#0d0887"
             ],
             [
              0.1111111111111111,
              "#46039f"
             ],
             [
              0.2222222222222222,
              "#7201a8"
             ],
             [
              0.3333333333333333,
              "#9c179e"
             ],
             [
              0.4444444444444444,
              "#bd3786"
             ],
             [
              0.5555555555555556,
              "#d8576b"
             ],
             [
              0.6666666666666666,
              "#ed7953"
             ],
             [
              0.7777777777777778,
              "#fb9f3a"
             ],
             [
              0.8888888888888888,
              "#fdca26"
             ],
             [
              1,
              "#f0f921"
             ]
            ],
            "type": "heatmap"
           }
          ],
          "heatmapgl": [
           {
            "colorbar": {
             "outlinewidth": 0,
             "ticks": ""
            },
            "colorscale": [
             [
              0,
              "#0d0887"
             ],
             [
              0.1111111111111111,
              "#46039f"
             ],
             [
              0.2222222222222222,
              "#7201a8"
             ],
             [
              0.3333333333333333,
              "#9c179e"
             ],
             [
              0.4444444444444444,
              "#bd3786"
             ],
             [
              0.5555555555555556,
              "#d8576b"
             ],
             [
              0.6666666666666666,
              "#ed7953"
             ],
             [
              0.7777777777777778,
              "#fb9f3a"
             ],
             [
              0.8888888888888888,
              "#fdca26"
             ],
             [
              1,
              "#f0f921"
             ]
            ],
            "type": "heatmapgl"
           }
          ],
          "histogram": [
           {
            "marker": {
             "colorbar": {
              "outlinewidth": 0,
              "ticks": ""
             }
            },
            "type": "histogram"
           }
          ],
          "histogram2d": [
           {
            "colorbar": {
             "outlinewidth": 0,
             "ticks": ""
            },
            "colorscale": [
             [
              0,
              "#0d0887"
             ],
             [
              0.1111111111111111,
              "#46039f"
             ],
             [
              0.2222222222222222,
              "#7201a8"
             ],
             [
              0.3333333333333333,
              "#9c179e"
             ],
             [
              0.4444444444444444,
              "#bd3786"
             ],
             [
              0.5555555555555556,
              "#d8576b"
             ],
             [
              0.6666666666666666,
              "#ed7953"
             ],
             [
              0.7777777777777778,
              "#fb9f3a"
             ],
             [
              0.8888888888888888,
              "#fdca26"
             ],
             [
              1,
              "#f0f921"
             ]
            ],
            "type": "histogram2d"
           }
          ],
          "histogram2dcontour": [
           {
            "colorbar": {
             "outlinewidth": 0,
             "ticks": ""
            },
            "colorscale": [
             [
              0,
              "#0d0887"
             ],
             [
              0.1111111111111111,
              "#46039f"
             ],
             [
              0.2222222222222222,
              "#7201a8"
             ],
             [
              0.3333333333333333,
              "#9c179e"
             ],
             [
              0.4444444444444444,
              "#bd3786"
             ],
             [
              0.5555555555555556,
              "#d8576b"
             ],
             [
              0.6666666666666666,
              "#ed7953"
             ],
             [
              0.7777777777777778,
              "#fb9f3a"
             ],
             [
              0.8888888888888888,
              "#fdca26"
             ],
             [
              1,
              "#f0f921"
             ]
            ],
            "type": "histogram2dcontour"
           }
          ],
          "mesh3d": [
           {
            "colorbar": {
             "outlinewidth": 0,
             "ticks": ""
            },
            "type": "mesh3d"
           }
          ],
          "parcoords": [
           {
            "line": {
             "colorbar": {
              "outlinewidth": 0,
              "ticks": ""
             }
            },
            "type": "parcoords"
           }
          ],
          "pie": [
           {
            "automargin": true,
            "type": "pie"
           }
          ],
          "scatter": [
           {
            "marker": {
             "colorbar": {
              "outlinewidth": 0,
              "ticks": ""
             }
            },
            "type": "scatter"
           }
          ],
          "scatter3d": [
           {
            "line": {
             "colorbar": {
              "outlinewidth": 0,
              "ticks": ""
             }
            },
            "marker": {
             "colorbar": {
              "outlinewidth": 0,
              "ticks": ""
             }
            },
            "type": "scatter3d"
           }
          ],
          "scattercarpet": [
           {
            "marker": {
             "colorbar": {
              "outlinewidth": 0,
              "ticks": ""
             }
            },
            "type": "scattercarpet"
           }
          ],
          "scattergeo": [
           {
            "marker": {
             "colorbar": {
              "outlinewidth": 0,
              "ticks": ""
             }
            },
            "type": "scattergeo"
           }
          ],
          "scattergl": [
           {
            "marker": {
             "colorbar": {
              "outlinewidth": 0,
              "ticks": ""
             }
            },
            "type": "scattergl"
           }
          ],
          "scattermapbox": [
           {
            "marker": {
             "colorbar": {
              "outlinewidth": 0,
              "ticks": ""
             }
            },
            "type": "scattermapbox"
           }
          ],
          "scatterpolar": [
           {
            "marker": {
             "colorbar": {
              "outlinewidth": 0,
              "ticks": ""
             }
            },
            "type": "scatterpolar"
           }
          ],
          "scatterpolargl": [
           {
            "marker": {
             "colorbar": {
              "outlinewidth": 0,
              "ticks": ""
             }
            },
            "type": "scatterpolargl"
           }
          ],
          "scatterternary": [
           {
            "marker": {
             "colorbar": {
              "outlinewidth": 0,
              "ticks": ""
             }
            },
            "type": "scatterternary"
           }
          ],
          "surface": [
           {
            "colorbar": {
             "outlinewidth": 0,
             "ticks": ""
            },
            "colorscale": [
             [
              0,
              "#0d0887"
             ],
             [
              0.1111111111111111,
              "#46039f"
             ],
             [
              0.2222222222222222,
              "#7201a8"
             ],
             [
              0.3333333333333333,
              "#9c179e"
             ],
             [
              0.4444444444444444,
              "#bd3786"
             ],
             [
              0.5555555555555556,
              "#d8576b"
             ],
             [
              0.6666666666666666,
              "#ed7953"
             ],
             [
              0.7777777777777778,
              "#fb9f3a"
             ],
             [
              0.8888888888888888,
              "#fdca26"
             ],
             [
              1,
              "#f0f921"
             ]
            ],
            "type": "surface"
           }
          ],
          "table": [
           {
            "cells": {
             "fill": {
              "color": "#EBF0F8"
             },
             "line": {
              "color": "white"
             }
            },
            "header": {
             "fill": {
              "color": "#C8D4E3"
             },
             "line": {
              "color": "white"
             }
            },
            "type": "table"
           }
          ]
         },
         "layout": {
          "annotationdefaults": {
           "arrowcolor": "#2a3f5f",
           "arrowhead": 0,
           "arrowwidth": 1
          },
          "autotypenumbers": "strict",
          "coloraxis": {
           "colorbar": {
            "outlinewidth": 0,
            "ticks": ""
           }
          },
          "colorscale": {
           "diverging": [
            [
             0,
             "#8e0152"
            ],
            [
             0.1,
             "#c51b7d"
            ],
            [
             0.2,
             "#de77ae"
            ],
            [
             0.3,
             "#f1b6da"
            ],
            [
             0.4,
             "#fde0ef"
            ],
            [
             0.5,
             "#f7f7f7"
            ],
            [
             0.6,
             "#e6f5d0"
            ],
            [
             0.7,
             "#b8e186"
            ],
            [
             0.8,
             "#7fbc41"
            ],
            [
             0.9,
             "#4d9221"
            ],
            [
             1,
             "#276419"
            ]
           ],
           "sequential": [
            [
             0,
             "#0d0887"
            ],
            [
             0.1111111111111111,
             "#46039f"
            ],
            [
             0.2222222222222222,
             "#7201a8"
            ],
            [
             0.3333333333333333,
             "#9c179e"
            ],
            [
             0.4444444444444444,
             "#bd3786"
            ],
            [
             0.5555555555555556,
             "#d8576b"
            ],
            [
             0.6666666666666666,
             "#ed7953"
            ],
            [
             0.7777777777777778,
             "#fb9f3a"
            ],
            [
             0.8888888888888888,
             "#fdca26"
            ],
            [
             1,
             "#f0f921"
            ]
           ],
           "sequentialminus": [
            [
             0,
             "#0d0887"
            ],
            [
             0.1111111111111111,
             "#46039f"
            ],
            [
             0.2222222222222222,
             "#7201a8"
            ],
            [
             0.3333333333333333,
             "#9c179e"
            ],
            [
             0.4444444444444444,
             "#bd3786"
            ],
            [
             0.5555555555555556,
             "#d8576b"
            ],
            [
             0.6666666666666666,
             "#ed7953"
            ],
            [
             0.7777777777777778,
             "#fb9f3a"
            ],
            [
             0.8888888888888888,
             "#fdca26"
            ],
            [
             1,
             "#f0f921"
            ]
           ]
          },
          "colorway": [
           "#636efa",
           "#EF553B",
           "#00cc96",
           "#ab63fa",
           "#FFA15A",
           "#19d3f3",
           "#FF6692",
           "#B6E880",
           "#FF97FF",
           "#FECB52"
          ],
          "font": {
           "color": "#2a3f5f"
          },
          "geo": {
           "bgcolor": "white",
           "lakecolor": "white",
           "landcolor": "#E5ECF6",
           "showlakes": true,
           "showland": true,
           "subunitcolor": "white"
          },
          "hoverlabel": {
           "align": "left"
          },
          "hovermode": "closest",
          "mapbox": {
           "style": "light"
          },
          "paper_bgcolor": "white",
          "plot_bgcolor": "#E5ECF6",
          "polar": {
           "angularaxis": {
            "gridcolor": "white",
            "linecolor": "white",
            "ticks": ""
           },
           "bgcolor": "#E5ECF6",
           "radialaxis": {
            "gridcolor": "white",
            "linecolor": "white",
            "ticks": ""
           }
          },
          "scene": {
           "xaxis": {
            "backgroundcolor": "#E5ECF6",
            "gridcolor": "white",
            "gridwidth": 2,
            "linecolor": "white",
            "showbackground": true,
            "ticks": "",
            "zerolinecolor": "white"
           },
           "yaxis": {
            "backgroundcolor": "#E5ECF6",
            "gridcolor": "white",
            "gridwidth": 2,
            "linecolor": "white",
            "showbackground": true,
            "ticks": "",
            "zerolinecolor": "white"
           },
           "zaxis": {
            "backgroundcolor": "#E5ECF6",
            "gridcolor": "white",
            "gridwidth": 2,
            "linecolor": "white",
            "showbackground": true,
            "ticks": "",
            "zerolinecolor": "white"
           }
          },
          "shapedefaults": {
           "line": {
            "color": "#2a3f5f"
           }
          },
          "ternary": {
           "aaxis": {
            "gridcolor": "white",
            "linecolor": "white",
            "ticks": ""
           },
           "baxis": {
            "gridcolor": "white",
            "linecolor": "white",
            "ticks": ""
           },
           "bgcolor": "#E5ECF6",
           "caxis": {
            "gridcolor": "white",
            "linecolor": "white",
            "ticks": ""
           }
          },
          "title": {
           "x": 0.05
          },
          "xaxis": {
           "automargin": true,
           "gridcolor": "white",
           "linecolor": "white",
           "ticks": "",
           "title": {
            "standoff": 15
           },
           "zerolinecolor": "white",
           "zerolinewidth": 2
          },
          "yaxis": {
           "automargin": true,
           "gridcolor": "white",
           "linecolor": "white",
           "ticks": "",
           "title": {
            "standoff": 15
           },
           "zerolinecolor": "white",
           "zerolinewidth": 2
          }
         }
        },
        "width": 1500
       }
      },
      "text/html": [
       "<div>                            <div id=\"d1b0bb94-ef7e-40fe-814a-ae0b6687e429\" class=\"plotly-graph-div\" style=\"height:1500px; width:1500px;\"></div>            <script type=\"text/javascript\">                require([\"plotly\"], function(Plotly) {                    window.PLOTLYENV=window.PLOTLYENV || {};                                    if (document.getElementById(\"d1b0bb94-ef7e-40fe-814a-ae0b6687e429\")) {                    Plotly.newPlot(                        \"d1b0bb94-ef7e-40fe-814a-ae0b6687e429\",                        [{\"fill\": \"toself\", \"name\": \"cluster0\", \"r\": [0.42765571571085054, 0.5692197694163911, 0.43734157453108025, 0.45744644375575694, 0.3875966850990563, 0.4547874642888062, 0.29734397770245286, 0.3251640212617502, 0.3389782154500861, 0.30867258392423264, 0.1855044120322018, 0.2990023238889721, 0.39773766749953465], \"theta\": [\"saving\", \"num_savings_tran\", \"SV_tran_amt\", \"AVG_savings_amt\", \"checking\", \"num_checking_tran\", \"CH_tran_amt\", \"AVG_checking_amt\", \"credit\", \"num_credit_tran\", \"CC_tran_amt\", \"AVG_credit_amt\", \"Total_AVG_tran_amt\"], \"type\": \"scatterpolar\"}, {\"fill\": \"toself\", \"name\": \"cluster1\", \"r\": [0.25481468603498764, 0.28760389668424347, 0.28129099432634325, 0.2754089227437759, 0.26005481092398824, 0.3408795775257554, 0.2949556511143179, 0.286027668811993, 0.41096428053419054, 0.5420736847324837, 0.5586357568528754, 0.3918234492729921, 0.32986513485970387], \"theta\": [\"saving\", \"num_savings_tran\", \"SV_tran_amt\", \"AVG_savings_amt\", \"checking\", \"num_checking_tran\", \"CH_tran_amt\", \"AVG_checking_amt\", \"credit\", \"num_credit_tran\", \"CC_tran_amt\", \"AVG_credit_amt\", \"Total_AVG_tran_amt\"], \"type\": \"scatterpolar\"}, {\"fill\": \"toself\", \"name\": \"cluster2\", \"r\": [0.23980438391803754, 0.11412994905710966, 0.2022884467234192, 0.2031254685841283, 0.25337691180631755, 0.17005021210284824, 0.3164707857648239, 0.3035962864890506, 0.18403533796915636, 0.08627956562701443, 0.09892320110985182, 0.2204854212067389, 0.19455572940578586], \"theta\": [\"saving\", \"num_savings_tran\", \"SV_tran_amt\", \"AVG_savings_amt\", \"checking\", \"num_checking_tran\", \"CH_tran_amt\", \"AVG_checking_amt\", \"credit\", \"num_credit_tran\", \"CC_tran_amt\", \"AVG_credit_amt\", \"Total_AVG_tran_amt\"], \"type\": \"scatterpolar\"}, {\"fill\": \"toself\", \"name\": \"cluster3\", \"r\": [0.07772521433612418, 0.029046384842255787, 0.07907898441915737, 0.0640191649163388, 0.09897159217063795, 0.03428274608259025, 0.09122958541840535, 0.08521202343720617, 0.06602216604656704, 0.06297416571626915, 0.15693663000507105, 0.08868880563129686, 0.07784146823497559], \"theta\": [\"saving\", \"num_savings_tran\", \"SV_tran_amt\", \"AVG_savings_amt\", \"checking\", \"num_checking_tran\", \"CH_tran_amt\", \"AVG_checking_amt\", \"credit\", \"num_credit_tran\", \"CC_tran_amt\", \"AVG_credit_amt\", \"Total_AVG_tran_amt\"], \"type\": \"scatterpolar\"}, {\"fill\": \"toself\", \"name\": \"cluster4\", \"r\": [0.0, 0.0, 0.0, 0.0, 0.0, 0.0, 0.0, 0.0, 0.0, 0.0, 0.0, 0.0, 0.0], \"theta\": [\"saving\", \"num_savings_tran\", \"SV_tran_amt\", \"AVG_savings_amt\", \"checking\", \"num_checking_tran\", \"CH_tran_amt\", \"AVG_checking_amt\", \"credit\", \"num_credit_tran\", \"CC_tran_amt\", \"AVG_credit_amt\", \"Total_AVG_tran_amt\"], \"type\": \"scatterpolar\"}],                        {\"height\": 1500, \"polar\": {\"radialaxis\": {\"visible\": true}}, \"showlegend\": true, \"template\": {\"data\": {\"bar\": [{\"error_x\": {\"color\": \"#2a3f5f\"}, \"error_y\": {\"color\": \"#2a3f5f\"}, \"marker\": {\"line\": {\"color\": \"#E5ECF6\", \"width\": 0.5}}, \"type\": \"bar\"}], \"barpolar\": [{\"marker\": {\"line\": {\"color\": \"#E5ECF6\", \"width\": 0.5}}, \"type\": \"barpolar\"}], \"carpet\": [{\"aaxis\": {\"endlinecolor\": \"#2a3f5f\", \"gridcolor\": \"white\", \"linecolor\": \"white\", \"minorgridcolor\": \"white\", \"startlinecolor\": \"#2a3f5f\"}, \"baxis\": {\"endlinecolor\": \"#2a3f5f\", \"gridcolor\": \"white\", \"linecolor\": \"white\", \"minorgridcolor\": \"white\", \"startlinecolor\": \"#2a3f5f\"}, \"type\": \"carpet\"}], \"choropleth\": [{\"colorbar\": {\"outlinewidth\": 0, \"ticks\": \"\"}, \"type\": \"choropleth\"}], \"contour\": [{\"colorbar\": {\"outlinewidth\": 0, \"ticks\": \"\"}, \"colorscale\": [[0.0, \"#0d0887\"], [0.1111111111111111, \"#46039f\"], [0.2222222222222222, \"#7201a8\"], [0.3333333333333333, \"#9c179e\"], [0.4444444444444444, \"#bd3786\"], [0.5555555555555556, \"#d8576b\"], [0.6666666666666666, \"#ed7953\"], [0.7777777777777778, \"#fb9f3a\"], [0.8888888888888888, \"#fdca26\"], [1.0, \"#f0f921\"]], \"type\": \"contour\"}], \"contourcarpet\": [{\"colorbar\": {\"outlinewidth\": 0, \"ticks\": \"\"}, \"type\": \"contourcarpet\"}], \"heatmap\": [{\"colorbar\": {\"outlinewidth\": 0, \"ticks\": \"\"}, \"colorscale\": [[0.0, \"#0d0887\"], [0.1111111111111111, \"#46039f\"], [0.2222222222222222, \"#7201a8\"], [0.3333333333333333, \"#9c179e\"], [0.4444444444444444, \"#bd3786\"], [0.5555555555555556, \"#d8576b\"], [0.6666666666666666, \"#ed7953\"], [0.7777777777777778, \"#fb9f3a\"], [0.8888888888888888, \"#fdca26\"], [1.0, \"#f0f921\"]], \"type\": \"heatmap\"}], \"heatmapgl\": [{\"colorbar\": {\"outlinewidth\": 0, \"ticks\": \"\"}, \"colorscale\": [[0.0, \"#0d0887\"], [0.1111111111111111, \"#46039f\"], [0.2222222222222222, \"#7201a8\"], [0.3333333333333333, \"#9c179e\"], [0.4444444444444444, \"#bd3786\"], [0.5555555555555556, \"#d8576b\"], [0.6666666666666666, \"#ed7953\"], [0.7777777777777778, \"#fb9f3a\"], [0.8888888888888888, \"#fdca26\"], [1.0, \"#f0f921\"]], \"type\": \"heatmapgl\"}], \"histogram\": [{\"marker\": {\"colorbar\": {\"outlinewidth\": 0, \"ticks\": \"\"}}, \"type\": \"histogram\"}], \"histogram2d\": [{\"colorbar\": {\"outlinewidth\": 0, \"ticks\": \"\"}, \"colorscale\": [[0.0, \"#0d0887\"], [0.1111111111111111, \"#46039f\"], [0.2222222222222222, \"#7201a8\"], [0.3333333333333333, \"#9c179e\"], [0.4444444444444444, \"#bd3786\"], [0.5555555555555556, \"#d8576b\"], [0.6666666666666666, \"#ed7953\"], [0.7777777777777778, \"#fb9f3a\"], [0.8888888888888888, \"#fdca26\"], [1.0, \"#f0f921\"]], \"type\": \"histogram2d\"}], \"histogram2dcontour\": [{\"colorbar\": {\"outlinewidth\": 0, \"ticks\": \"\"}, \"colorscale\": [[0.0, \"#0d0887\"], [0.1111111111111111, \"#46039f\"], [0.2222222222222222, \"#7201a8\"], [0.3333333333333333, \"#9c179e\"], [0.4444444444444444, \"#bd3786\"], [0.5555555555555556, \"#d8576b\"], [0.6666666666666666, \"#ed7953\"], [0.7777777777777778, \"#fb9f3a\"], [0.8888888888888888, \"#fdca26\"], [1.0, \"#f0f921\"]], \"type\": \"histogram2dcontour\"}], \"mesh3d\": [{\"colorbar\": {\"outlinewidth\": 0, \"ticks\": \"\"}, \"type\": \"mesh3d\"}], \"parcoords\": [{\"line\": {\"colorbar\": {\"outlinewidth\": 0, \"ticks\": \"\"}}, \"type\": \"parcoords\"}], \"pie\": [{\"automargin\": true, \"type\": \"pie\"}], \"scatter\": [{\"marker\": {\"colorbar\": {\"outlinewidth\": 0, \"ticks\": \"\"}}, \"type\": \"scatter\"}], \"scatter3d\": [{\"line\": {\"colorbar\": {\"outlinewidth\": 0, \"ticks\": \"\"}}, \"marker\": {\"colorbar\": {\"outlinewidth\": 0, \"ticks\": \"\"}}, \"type\": \"scatter3d\"}], \"scattercarpet\": [{\"marker\": {\"colorbar\": {\"outlinewidth\": 0, \"ticks\": \"\"}}, \"type\": \"scattercarpet\"}], \"scattergeo\": [{\"marker\": {\"colorbar\": {\"outlinewidth\": 0, \"ticks\": \"\"}}, \"type\": \"scattergeo\"}], \"scattergl\": [{\"marker\": {\"colorbar\": {\"outlinewidth\": 0, \"ticks\": \"\"}}, \"type\": \"scattergl\"}], \"scattermapbox\": [{\"marker\": {\"colorbar\": {\"outlinewidth\": 0, \"ticks\": \"\"}}, \"type\": \"scattermapbox\"}], \"scatterpolar\": [{\"marker\": {\"colorbar\": {\"outlinewidth\": 0, \"ticks\": \"\"}}, \"type\": \"scatterpolar\"}], \"scatterpolargl\": [{\"marker\": {\"colorbar\": {\"outlinewidth\": 0, \"ticks\": \"\"}}, \"type\": \"scatterpolargl\"}], \"scatterternary\": [{\"marker\": {\"colorbar\": {\"outlinewidth\": 0, \"ticks\": \"\"}}, \"type\": \"scatterternary\"}], \"surface\": [{\"colorbar\": {\"outlinewidth\": 0, \"ticks\": \"\"}, \"colorscale\": [[0.0, \"#0d0887\"], [0.1111111111111111, \"#46039f\"], [0.2222222222222222, \"#7201a8\"], [0.3333333333333333, \"#9c179e\"], [0.4444444444444444, \"#bd3786\"], [0.5555555555555556, \"#d8576b\"], [0.6666666666666666, \"#ed7953\"], [0.7777777777777778, \"#fb9f3a\"], [0.8888888888888888, \"#fdca26\"], [1.0, \"#f0f921\"]], \"type\": \"surface\"}], \"table\": [{\"cells\": {\"fill\": {\"color\": \"#EBF0F8\"}, \"line\": {\"color\": \"white\"}}, \"header\": {\"fill\": {\"color\": \"#C8D4E3\"}, \"line\": {\"color\": \"white\"}}, \"type\": \"table\"}]}, \"layout\": {\"annotationdefaults\": {\"arrowcolor\": \"#2a3f5f\", \"arrowhead\": 0, \"arrowwidth\": 1}, \"autotypenumbers\": \"strict\", \"coloraxis\": {\"colorbar\": {\"outlinewidth\": 0, \"ticks\": \"\"}}, \"colorscale\": {\"diverging\": [[0, \"#8e0152\"], [0.1, \"#c51b7d\"], [0.2, \"#de77ae\"], [0.3, \"#f1b6da\"], [0.4, \"#fde0ef\"], [0.5, \"#f7f7f7\"], [0.6, \"#e6f5d0\"], [0.7, \"#b8e186\"], [0.8, \"#7fbc41\"], [0.9, \"#4d9221\"], [1, \"#276419\"]], \"sequential\": [[0.0, \"#0d0887\"], [0.1111111111111111, \"#46039f\"], [0.2222222222222222, \"#7201a8\"], [0.3333333333333333, \"#9c179e\"], [0.4444444444444444, \"#bd3786\"], [0.5555555555555556, \"#d8576b\"], [0.6666666666666666, \"#ed7953\"], [0.7777777777777778, \"#fb9f3a\"], [0.8888888888888888, \"#fdca26\"], [1.0, \"#f0f921\"]], \"sequentialminus\": [[0.0, \"#0d0887\"], [0.1111111111111111, \"#46039f\"], [0.2222222222222222, \"#7201a8\"], [0.3333333333333333, \"#9c179e\"], [0.4444444444444444, \"#bd3786\"], [0.5555555555555556, \"#d8576b\"], [0.6666666666666666, \"#ed7953\"], [0.7777777777777778, \"#fb9f3a\"], [0.8888888888888888, \"#fdca26\"], [1.0, \"#f0f921\"]]}, \"colorway\": [\"#636efa\", \"#EF553B\", \"#00cc96\", \"#ab63fa\", \"#FFA15A\", \"#19d3f3\", \"#FF6692\", \"#B6E880\", \"#FF97FF\", \"#FECB52\"], \"font\": {\"color\": \"#2a3f5f\"}, \"geo\": {\"bgcolor\": \"white\", \"lakecolor\": \"white\", \"landcolor\": \"#E5ECF6\", \"showlakes\": true, \"showland\": true, \"subunitcolor\": \"white\"}, \"hoverlabel\": {\"align\": \"left\"}, \"hovermode\": \"closest\", \"mapbox\": {\"style\": \"light\"}, \"paper_bgcolor\": \"white\", \"plot_bgcolor\": \"#E5ECF6\", \"polar\": {\"angularaxis\": {\"gridcolor\": \"white\", \"linecolor\": \"white\", \"ticks\": \"\"}, \"bgcolor\": \"#E5ECF6\", \"radialaxis\": {\"gridcolor\": \"white\", \"linecolor\": \"white\", \"ticks\": \"\"}}, \"scene\": {\"xaxis\": {\"backgroundcolor\": \"#E5ECF6\", \"gridcolor\": \"white\", \"gridwidth\": 2, \"linecolor\": \"white\", \"showbackground\": true, \"ticks\": \"\", \"zerolinecolor\": \"white\"}, \"yaxis\": {\"backgroundcolor\": \"#E5ECF6\", \"gridcolor\": \"white\", \"gridwidth\": 2, \"linecolor\": \"white\", \"showbackground\": true, \"ticks\": \"\", \"zerolinecolor\": \"white\"}, \"zaxis\": {\"backgroundcolor\": \"#E5ECF6\", \"gridcolor\": \"white\", \"gridwidth\": 2, \"linecolor\": \"white\", \"showbackground\": true, \"ticks\": \"\", \"zerolinecolor\": \"white\"}}, \"shapedefaults\": {\"line\": {\"color\": \"#2a3f5f\"}}, \"ternary\": {\"aaxis\": {\"gridcolor\": \"white\", \"linecolor\": \"white\", \"ticks\": \"\"}, \"baxis\": {\"gridcolor\": \"white\", \"linecolor\": \"white\", \"ticks\": \"\"}, \"bgcolor\": \"#E5ECF6\", \"caxis\": {\"gridcolor\": \"white\", \"linecolor\": \"white\", \"ticks\": \"\"}}, \"title\": {\"x\": 0.05}, \"xaxis\": {\"automargin\": true, \"gridcolor\": \"white\", \"linecolor\": \"white\", \"ticks\": \"\", \"title\": {\"standoff\": 15}, \"zerolinecolor\": \"white\", \"zerolinewidth\": 2}, \"yaxis\": {\"automargin\": true, \"gridcolor\": \"white\", \"linecolor\": \"white\", \"ticks\": \"\", \"title\": {\"standoff\": 15}, \"zerolinecolor\": \"white\", \"zerolinewidth\": 2}}}, \"width\": 1500},                        {\"responsive\": true}                    ).then(function(){\n",
       "                            \n",
       "var gd = document.getElementById('d1b0bb94-ef7e-40fe-814a-ae0b6687e429');\n",
       "var x = new MutationObserver(function (mutations, observer) {{\n",
       "        var display = window.getComputedStyle(gd).display;\n",
       "        if (!display || display === 'none') {{\n",
       "            console.log([gd, 'removed!']);\n",
       "            Plotly.purge(gd);\n",
       "            observer.disconnect();\n",
       "        }}\n",
       "}});\n",
       "\n",
       "// Listen for the removal of the full notebook cells\n",
       "var notebookContainer = gd.closest('#notebook-container');\n",
       "if (notebookContainer) {{\n",
       "    x.observe(notebookContainer, {childList: true});\n",
       "}}\n",
       "\n",
       "// Listen for the clearing of the current output cell\n",
       "var outputEl = gd.closest('.output');\n",
       "if (outputEl) {{\n",
       "    x.observe(outputEl, {childList: true});\n",
       "}}\n",
       "\n",
       "                        })                };                });            </script>        </div>"
      ]
     },
     "metadata": {},
     "output_type": "display_data"
    }
   ],
   "source": [
    "import plotly.graph_objects as go\n",
    "\n",
    "categories = ['saving','num_savings_tran','SV_tran_amt','AVG_savings_amt', 'checking','num_checking_tran','CH_tran_amt','AVG_checking_amt'   ,       'credit','num_credit_tran','CC_tran_amt','AVG_credit_amt'\n",
    "             ,'Total_AVG_tran_amt']\n",
    "\n",
    "fig = go.Figure()\n",
    "\n",
    "fig.add_trace(go.Scatterpolar(\n",
    "      r=[df_f[label==0][i].sum()/df_f[i].sum() for i in categories],\n",
    "      theta=categories,\n",
    "      fill='toself',\n",
    "      name='cluster0'\n",
    "))\n",
    "fig.add_trace(go.Scatterpolar(\n",
    "      r=[df_f[label==1][i].sum()/df_f[i].sum() for i in categories],\n",
    "      theta=categories,\n",
    "      fill='toself',\n",
    "      name='cluster1'\n",
    "))\n",
    "fig.add_trace(go.Scatterpolar(\n",
    "      r=[df_f[label==2][i].sum()/df_f[i].sum() for i in categories],\n",
    "      theta=categories,\n",
    "      fill='toself',\n",
    "      name='cluster2'\n",
    "))\n",
    "fig.add_trace(go.Scatterpolar(\n",
    "      r=[df_f[label==3][i].sum()/df_f[i].sum() for i in categories],\n",
    "      theta=categories,\n",
    "      fill='toself',\n",
    "      name='cluster3'\n",
    "))\n",
    "fig.add_trace(go.Scatterpolar(\n",
    "      r=[df_f[label==4][i].sum()/df_f[i].sum() for i in categories],\n",
    "      theta=categories,\n",
    "      fill='toself',\n",
    "      name='cluster4'\n",
    "))\n",
    "fig.update_layout(width=1500,\n",
    "    height=1500,\n",
    "    \n",
    "  polar=dict(\n",
    "    radialaxis=dict(\n",
    "      visible=True\n",
    "    )),\n",
    "  showlegend=True\n",
    ")\n",
    "\n",
    "fig.show()"
   ]
  },
  {
   "cell_type": "code",
   "execution_count": null,
   "metadata": {},
   "outputs": [],
   "source": []
  },
  {
   "cell_type": "code",
   "execution_count": 57,
   "metadata": {},
   "outputs": [
    {
     "data": {
      "text/html": [
       "<div>\n",
       "<style scoped>\n",
       "    .dataframe tbody tr th:only-of-type {\n",
       "        vertical-align: middle;\n",
       "    }\n",
       "\n",
       "    .dataframe tbody tr th {\n",
       "        vertical-align: top;\n",
       "    }\n",
       "\n",
       "    .dataframe thead th {\n",
       "        text-align: right;\n",
       "    }\n",
       "</style>\n",
       "<table border=\"1\" class=\"dataframe\">\n",
       "  <thead>\n",
       "    <tr style=\"text-align: right;\">\n",
       "      <th></th>\n",
       "      <th>saving</th>\n",
       "      <th>credit</th>\n",
       "      <th>checking</th>\n",
       "      <th>num_savings_tran</th>\n",
       "      <th>num_credit_tran</th>\n",
       "      <th>num_checking_tran</th>\n",
       "      <th>SV_tran_amt</th>\n",
       "      <th>CC_tran_amt</th>\n",
       "      <th>CH_tran_amt</th>\n",
       "      <th>AVG_savings_amt</th>\n",
       "      <th>AVG_credit_amt</th>\n",
       "      <th>AVG_checking_amt</th>\n",
       "      <th>Total_AVG_tran_amt</th>\n",
       "    </tr>\n",
       "    <tr>\n",
       "      <th>cust_id</th>\n",
       "      <th></th>\n",
       "      <th></th>\n",
       "      <th></th>\n",
       "      <th></th>\n",
       "      <th></th>\n",
       "      <th></th>\n",
       "      <th></th>\n",
       "      <th></th>\n",
       "      <th></th>\n",
       "      <th></th>\n",
       "      <th></th>\n",
       "      <th></th>\n",
       "      <th></th>\n",
       "    </tr>\n",
       "  </thead>\n",
       "  <tbody>\n",
       "    <tr>\n",
       "      <th>1362691</th>\n",
       "      <td>0.00</td>\n",
       "      <td>0.00</td>\n",
       "      <td>0.00</td>\n",
       "      <td>0.0</td>\n",
       "      <td>0.0</td>\n",
       "      <td>0.0</td>\n",
       "      <td>0.00</td>\n",
       "      <td>0.00</td>\n",
       "      <td>0.00</td>\n",
       "      <td>0.000000</td>\n",
       "      <td>0.000000</td>\n",
       "      <td>0.000000</td>\n",
       "      <td>0.000000</td>\n",
       "    </tr>\n",
       "    <tr>\n",
       "      <th>1362487</th>\n",
       "      <td>12.89</td>\n",
       "      <td>1548.23</td>\n",
       "      <td>1401.21</td>\n",
       "      <td>19.0</td>\n",
       "      <td>32.0</td>\n",
       "      <td>52.0</td>\n",
       "      <td>887.52</td>\n",
       "      <td>4773.21</td>\n",
       "      <td>3244.83</td>\n",
       "      <td>46.711579</td>\n",
       "      <td>149.162813</td>\n",
       "      <td>62.400577</td>\n",
       "      <td>86.461748</td>\n",
       "    </tr>\n",
       "    <tr>\n",
       "      <th>1363160</th>\n",
       "      <td>122.54</td>\n",
       "      <td>286.69</td>\n",
       "      <td>0.00</td>\n",
       "      <td>48.0</td>\n",
       "      <td>68.0</td>\n",
       "      <td>0.0</td>\n",
       "      <td>2662.22</td>\n",
       "      <td>12506.95</td>\n",
       "      <td>0.00</td>\n",
       "      <td>55.462917</td>\n",
       "      <td>183.925735</td>\n",
       "      <td>0.000000</td>\n",
       "      <td>130.768707</td>\n",
       "    </tr>\n",
       "    <tr>\n",
       "      <th>1362752</th>\n",
       "      <td>609.33</td>\n",
       "      <td>0.00</td>\n",
       "      <td>3.76</td>\n",
       "      <td>12.0</td>\n",
       "      <td>15.0</td>\n",
       "      <td>93.0</td>\n",
       "      <td>9.07</td>\n",
       "      <td>6182.65</td>\n",
       "      <td>12086.71</td>\n",
       "      <td>0.755833</td>\n",
       "      <td>412.176667</td>\n",
       "      <td>129.964624</td>\n",
       "      <td>152.320250</td>\n",
       "    </tr>\n",
       "    <tr>\n",
       "      <th>1362548</th>\n",
       "      <td>254.02</td>\n",
       "      <td>68.68</td>\n",
       "      <td>569.65</td>\n",
       "      <td>12.0</td>\n",
       "      <td>22.0</td>\n",
       "      <td>99.0</td>\n",
       "      <td>3.78</td>\n",
       "      <td>15089.99</td>\n",
       "      <td>16817.43</td>\n",
       "      <td>0.315000</td>\n",
       "      <td>685.908636</td>\n",
       "      <td>169.873030</td>\n",
       "      <td>239.933835</td>\n",
       "    </tr>\n",
       "    <tr>\n",
       "      <th>...</th>\n",
       "      <td>...</td>\n",
       "      <td>...</td>\n",
       "      <td>...</td>\n",
       "      <td>...</td>\n",
       "      <td>...</td>\n",
       "      <td>...</td>\n",
       "      <td>...</td>\n",
       "      <td>...</td>\n",
       "      <td>...</td>\n",
       "      <td>...</td>\n",
       "      <td>...</td>\n",
       "      <td>...</td>\n",
       "      <td>...</td>\n",
       "    </tr>\n",
       "    <tr>\n",
       "      <th>1363324</th>\n",
       "      <td>0.00</td>\n",
       "      <td>0.00</td>\n",
       "      <td>2325.37</td>\n",
       "      <td>0.0</td>\n",
       "      <td>0.0</td>\n",
       "      <td>44.0</td>\n",
       "      <td>0.00</td>\n",
       "      <td>0.00</td>\n",
       "      <td>3093.48</td>\n",
       "      <td>0.000000</td>\n",
       "      <td>0.000000</td>\n",
       "      <td>70.306364</td>\n",
       "      <td>70.306364</td>\n",
       "    </tr>\n",
       "    <tr>\n",
       "      <th>1362895</th>\n",
       "      <td>96.25</td>\n",
       "      <td>1300.00</td>\n",
       "      <td>0.00</td>\n",
       "      <td>28.0</td>\n",
       "      <td>27.0</td>\n",
       "      <td>0.0</td>\n",
       "      <td>1410.77</td>\n",
       "      <td>3425.69</td>\n",
       "      <td>0.00</td>\n",
       "      <td>50.384643</td>\n",
       "      <td>126.877407</td>\n",
       "      <td>0.000000</td>\n",
       "      <td>87.935636</td>\n",
       "    </tr>\n",
       "    <tr>\n",
       "      <th>1362569</th>\n",
       "      <td>0.00</td>\n",
       "      <td>9200.00</td>\n",
       "      <td>46.48</td>\n",
       "      <td>0.0</td>\n",
       "      <td>28.0</td>\n",
       "      <td>99.0</td>\n",
       "      <td>0.00</td>\n",
       "      <td>9200.00</td>\n",
       "      <td>16219.81</td>\n",
       "      <td>0.000000</td>\n",
       "      <td>328.571429</td>\n",
       "      <td>163.836465</td>\n",
       "      <td>200.155984</td>\n",
       "    </tr>\n",
       "    <tr>\n",
       "      <th>1363364</th>\n",
       "      <td>0.00</td>\n",
       "      <td>1785.97</td>\n",
       "      <td>296.28</td>\n",
       "      <td>0.0</td>\n",
       "      <td>75.0</td>\n",
       "      <td>99.0</td>\n",
       "      <td>0.00</td>\n",
       "      <td>15457.27</td>\n",
       "      <td>9901.08</td>\n",
       "      <td>0.000000</td>\n",
       "      <td>206.096933</td>\n",
       "      <td>100.010909</td>\n",
       "      <td>145.737644</td>\n",
       "    </tr>\n",
       "    <tr>\n",
       "      <th>1363303</th>\n",
       "      <td>0.00</td>\n",
       "      <td>1000.00</td>\n",
       "      <td>39.22</td>\n",
       "      <td>0.0</td>\n",
       "      <td>61.0</td>\n",
       "      <td>99.0</td>\n",
       "      <td>0.00</td>\n",
       "      <td>10065.28</td>\n",
       "      <td>9362.37</td>\n",
       "      <td>0.000000</td>\n",
       "      <td>165.004590</td>\n",
       "      <td>94.569394</td>\n",
       "      <td>121.422812</td>\n",
       "    </tr>\n",
       "  </tbody>\n",
       "</table>\n",
       "<p>747 rows × 13 columns</p>\n",
       "</div>"
      ],
      "text/plain": [
       "         saving   credit  checking  num_savings_tran  num_credit_tran  \\\n",
       "cust_id                                                                 \n",
       "1362691    0.00     0.00      0.00               0.0              0.0   \n",
       "1362487   12.89  1548.23   1401.21              19.0             32.0   \n",
       "1363160  122.54   286.69      0.00              48.0             68.0   \n",
       "1362752  609.33     0.00      3.76              12.0             15.0   \n",
       "1362548  254.02    68.68    569.65              12.0             22.0   \n",
       "...         ...      ...       ...               ...              ...   \n",
       "1363324    0.00     0.00   2325.37               0.0              0.0   \n",
       "1362895   96.25  1300.00      0.00              28.0             27.0   \n",
       "1362569    0.00  9200.00     46.48               0.0             28.0   \n",
       "1363364    0.00  1785.97    296.28               0.0             75.0   \n",
       "1363303    0.00  1000.00     39.22               0.0             61.0   \n",
       "\n",
       "         num_checking_tran  SV_tran_amt  CC_tran_amt  CH_tran_amt  \\\n",
       "cust_id                                                             \n",
       "1362691                0.0         0.00         0.00         0.00   \n",
       "1362487               52.0       887.52      4773.21      3244.83   \n",
       "1363160                0.0      2662.22     12506.95         0.00   \n",
       "1362752               93.0         9.07      6182.65     12086.71   \n",
       "1362548               99.0         3.78     15089.99     16817.43   \n",
       "...                    ...          ...          ...          ...   \n",
       "1363324               44.0         0.00         0.00      3093.48   \n",
       "1362895                0.0      1410.77      3425.69         0.00   \n",
       "1362569               99.0         0.00      9200.00     16219.81   \n",
       "1363364               99.0         0.00     15457.27      9901.08   \n",
       "1363303               99.0         0.00     10065.28      9362.37   \n",
       "\n",
       "         AVG_savings_amt  AVG_credit_amt  AVG_checking_amt  Total_AVG_tran_amt  \n",
       "cust_id                                                                         \n",
       "1362691         0.000000        0.000000          0.000000            0.000000  \n",
       "1362487        46.711579      149.162813         62.400577           86.461748  \n",
       "1363160        55.462917      183.925735          0.000000          130.768707  \n",
       "1362752         0.755833      412.176667        129.964624          152.320250  \n",
       "1362548         0.315000      685.908636        169.873030          239.933835  \n",
       "...                  ...             ...               ...                 ...  \n",
       "1363324         0.000000        0.000000         70.306364           70.306364  \n",
       "1362895        50.384643      126.877407          0.000000           87.935636  \n",
       "1362569         0.000000      328.571429        163.836465          200.155984  \n",
       "1363364         0.000000      206.096933        100.010909          145.737644  \n",
       "1363303         0.000000      165.004590         94.569394          121.422812  \n",
       "\n",
       "[747 rows x 13 columns]"
      ]
     },
     "execution_count": 57,
     "metadata": {},
     "output_type": "execute_result"
    }
   ],
   "source": [
    "df_f"
   ]
  },
  {
   "cell_type": "code",
   "execution_count": null,
   "metadata": {},
   "outputs": [],
   "source": []
  },
  {
   "cell_type": "code",
   "execution_count": null,
   "metadata": {},
   "outputs": [],
   "source": [
    "from sklearn.preprocessing import RobustScaler\n",
    "rb_scaler = =RobustScaler()\n",
    "scaled_df = rb_scaler.fit_transform(df)\n",
    "pca = PCA(n_components = 13)\n",
    "pca_df = pca.fit_transform(scaled_df)"
   ]
  },
  {
   "cell_type": "code",
   "execution_count": 38,
   "metadata": {},
   "outputs": [],
   "source": [
    "from sklearn.preprocessing import RobustScaler\n",
    "X=df_f\n",
    "transformer = RobustScaler().fit(X)\n",
    "scaled_df=transformer.transform(X)\n",
    "\n"
   ]
  },
  {
   "cell_type": "code",
   "execution_count": 39,
   "metadata": {},
   "outputs": [
    {
     "name": "stdout",
     "output_type": "stream",
     "text": [
      "Low-dimensional dataset shape: (747, 13)\n"
     ]
    }
   ],
   "source": [
    "# Find the first 75 principle components of the dataset\n",
    "pca = PCA(n_components=13)\n",
    "pca.fit(scaled_df)\n",
    "\n",
    "# Transform the data to its low-dimensional representation\n",
    "reduced_faces = pca.transform(scaled_df)\n",
    "print('Low-dimensional dataset shape: {}'.format(reduced_faces.shape))"
   ]
  },
  {
   "cell_type": "code",
   "execution_count": 40,
   "metadata": {},
   "outputs": [
    {
     "data": {
      "text/plain": [
       "Text(0, 0.5, '% Cumulative explained variance')"
      ]
     },
     "execution_count": 40,
     "metadata": {},
     "output_type": "execute_result"
    },
    {
     "data": {
      "image/png": "[encoded data removed]",
      "text/plain": [
       "<Figure size 432x288 with 1 Axes>"
      ]
     },
     "metadata": {},
     "output_type": "display_data"
    }
   ],
   "source": [
    "# See how well PCs explain variance in the dataset\n",
    "cum_explained_variance = np.cumsum(pca.explained_variance_ratio_)\n",
    "plt.plot(cum_explained_variance)\n",
    "plt.xlabel('PC number')\n",
    "plt.ylabel('% Cumulative explained variance')"
   ]
  },
  {
   "cell_type": "code",
   "execution_count": 43,
   "metadata": {},
   "outputs": [
    {
     "name": "stdout",
     "output_type": "stream",
     "text": [
      "Low-dimensional dataset shape: (747, 7)\n"
     ]
    }
   ],
   "source": [
    "pca = PCA(n_components=7)\n",
    "pca.fit(scaled_df)\n",
    "\n",
    "# Transform the data to its low-dimensional representation\n",
    "reduced_faces = pca.transform(scaled_df)\n",
    "print('Low-dimensional dataset shape: {}'.format(reduced_faces.shape))"
   ]
  },
  {
   "cell_type": "code",
   "execution_count": 44,
   "metadata": {},
   "outputs": [
    {
     "data": {
      "text/plain": [
       "array([[-2.61281576, -0.27093308, -0.42575668, ...,  0.02138104,\n",
       "         0.26454879,  0.31016979],\n",
       "       [ 0.48242959,  1.73834043, -1.33043626, ..., -0.885525  ,\n",
       "        -0.15851227,  0.76279225],\n",
       "       [-0.78799513, -0.38648381,  0.85948647, ..., -0.15591158,\n",
       "        -1.15381761,  0.9146355 ],\n",
       "       ...,\n",
       "       [ 0.7988663 ,  1.81254697,  2.10531538, ..., -4.87881083,\n",
       "         2.3593416 ,  0.51203774],\n",
       "       [-0.37861457,  1.16941476,  0.77550573, ..., -0.76351165,\n",
       "         0.76029562, -0.51194269],\n",
       "       [-1.08847497,  0.62643354,  0.76056404, ..., -0.22023339,\n",
       "         0.5252543 , -0.69545842]])"
      ]
     },
     "execution_count": 44,
     "metadata": {},
     "output_type": "execute_result"
    }
   ],
   "source": [
    "reduced_faces"
   ]
  },
  {
   "cell_type": "code",
   "execution_count": 58,
   "metadata": {},
   "outputs": [
    {
     "data": {
      "text/html": [
       "<div>\n",
       "<style scoped>\n",
       "    .dataframe tbody tr th:only-of-type {\n",
       "        vertical-align: middle;\n",
       "    }\n",
       "\n",
       "    .dataframe tbody tr th {\n",
       "        vertical-align: top;\n",
       "    }\n",
       "\n",
       "    .dataframe thead th {\n",
       "        text-align: right;\n",
       "    }\n",
       "</style>\n",
       "<table border=\"1\" class=\"dataframe\">\n",
       "  <thead>\n",
       "    <tr style=\"text-align: right;\">\n",
       "      <th></th>\n",
       "      <th>saving</th>\n",
       "      <th>credit</th>\n",
       "      <th>checking</th>\n",
       "      <th>num_savings_tran</th>\n",
       "      <th>num_credit_tran</th>\n",
       "      <th>num_checking_tran</th>\n",
       "      <th>SV_tran_amt</th>\n",
       "      <th>CC_tran_amt</th>\n",
       "      <th>CH_tran_amt</th>\n",
       "      <th>AVG_savings_amt</th>\n",
       "      <th>AVG_credit_amt</th>\n",
       "      <th>AVG_checking_amt</th>\n",
       "      <th>Total_AVG_tran_amt</th>\n",
       "    </tr>\n",
       "    <tr>\n",
       "      <th>cust_id</th>\n",
       "      <th></th>\n",
       "      <th></th>\n",
       "      <th></th>\n",
       "      <th></th>\n",
       "      <th></th>\n",
       "      <th></th>\n",
       "      <th></th>\n",
       "      <th></th>\n",
       "      <th></th>\n",
       "      <th></th>\n",
       "      <th></th>\n",
       "      <th></th>\n",
       "      <th></th>\n",
       "    </tr>\n",
       "  </thead>\n",
       "  <tbody>\n",
       "    <tr>\n",
       "      <th>1362487</th>\n",
       "      <td>12.89</td>\n",
       "      <td>1548.23</td>\n",
       "      <td>1401.21</td>\n",
       "      <td>19.0</td>\n",
       "      <td>32.0</td>\n",
       "      <td>52.0</td>\n",
       "      <td>887.52</td>\n",
       "      <td>4773.21</td>\n",
       "      <td>3244.83</td>\n",
       "      <td>46.711579</td>\n",
       "      <td>149.162813</td>\n",
       "      <td>62.400577</td>\n",
       "      <td>86.461748</td>\n",
       "    </tr>\n",
       "    <tr>\n",
       "      <th>1363160</th>\n",
       "      <td>122.54</td>\n",
       "      <td>286.69</td>\n",
       "      <td>0.00</td>\n",
       "      <td>48.0</td>\n",
       "      <td>68.0</td>\n",
       "      <td>0.0</td>\n",
       "      <td>2662.22</td>\n",
       "      <td>12506.95</td>\n",
       "      <td>0.00</td>\n",
       "      <td>55.462917</td>\n",
       "      <td>183.925735</td>\n",
       "      <td>0.000000</td>\n",
       "      <td>130.768707</td>\n",
       "    </tr>\n",
       "    <tr>\n",
       "      <th>1362752</th>\n",
       "      <td>609.33</td>\n",
       "      <td>0.00</td>\n",
       "      <td>3.76</td>\n",
       "      <td>12.0</td>\n",
       "      <td>15.0</td>\n",
       "      <td>93.0</td>\n",
       "      <td>9.07</td>\n",
       "      <td>6182.65</td>\n",
       "      <td>12086.71</td>\n",
       "      <td>0.755833</td>\n",
       "      <td>412.176667</td>\n",
       "      <td>129.964624</td>\n",
       "      <td>152.320250</td>\n",
       "    </tr>\n",
       "    <tr>\n",
       "      <th>1362548</th>\n",
       "      <td>254.02</td>\n",
       "      <td>68.68</td>\n",
       "      <td>569.65</td>\n",
       "      <td>12.0</td>\n",
       "      <td>22.0</td>\n",
       "      <td>99.0</td>\n",
       "      <td>3.78</td>\n",
       "      <td>15089.99</td>\n",
       "      <td>16817.43</td>\n",
       "      <td>0.315000</td>\n",
       "      <td>685.908636</td>\n",
       "      <td>169.873030</td>\n",
       "      <td>239.933835</td>\n",
       "    </tr>\n",
       "    <tr>\n",
       "      <th>1363017</th>\n",
       "      <td>2901.35</td>\n",
       "      <td>1000.00</td>\n",
       "      <td>147.15</td>\n",
       "      <td>24.0</td>\n",
       "      <td>63.0</td>\n",
       "      <td>99.0</td>\n",
       "      <td>1840.05</td>\n",
       "      <td>10172.72</td>\n",
       "      <td>10057.28</td>\n",
       "      <td>76.668750</td>\n",
       "      <td>161.471746</td>\n",
       "      <td>101.588687</td>\n",
       "      <td>118.656183</td>\n",
       "    </tr>\n",
       "    <tr>\n",
       "      <th>...</th>\n",
       "      <td>...</td>\n",
       "      <td>...</td>\n",
       "      <td>...</td>\n",
       "      <td>...</td>\n",
       "      <td>...</td>\n",
       "      <td>...</td>\n",
       "      <td>...</td>\n",
       "      <td>...</td>\n",
       "      <td>...</td>\n",
       "      <td>...</td>\n",
       "      <td>...</td>\n",
       "      <td>...</td>\n",
       "      <td>...</td>\n",
       "    </tr>\n",
       "    <tr>\n",
       "      <th>1362529</th>\n",
       "      <td>873.14</td>\n",
       "      <td>433.43</td>\n",
       "      <td>1007.92</td>\n",
       "      <td>21.0</td>\n",
       "      <td>39.0</td>\n",
       "      <td>99.0</td>\n",
       "      <td>2331.08</td>\n",
       "      <td>7634.33</td>\n",
       "      <td>11649.08</td>\n",
       "      <td>111.003810</td>\n",
       "      <td>195.752051</td>\n",
       "      <td>117.667475</td>\n",
       "      <td>135.940189</td>\n",
       "    </tr>\n",
       "    <tr>\n",
       "      <th>1362508</th>\n",
       "      <td>255.11</td>\n",
       "      <td>1072.17</td>\n",
       "      <td>75.11</td>\n",
       "      <td>33.0</td>\n",
       "      <td>87.0</td>\n",
       "      <td>99.0</td>\n",
       "      <td>2749.01</td>\n",
       "      <td>17769.22</td>\n",
       "      <td>9117.73</td>\n",
       "      <td>83.303333</td>\n",
       "      <td>204.243908</td>\n",
       "      <td>92.098283</td>\n",
       "      <td>135.324018</td>\n",
       "    </tr>\n",
       "    <tr>\n",
       "      <th>1363038</th>\n",
       "      <td>508.26</td>\n",
       "      <td>1800.00</td>\n",
       "      <td>459.03</td>\n",
       "      <td>33.0</td>\n",
       "      <td>24.0</td>\n",
       "      <td>99.0</td>\n",
       "      <td>5056.67</td>\n",
       "      <td>3032.57</td>\n",
       "      <td>7243.22</td>\n",
       "      <td>153.232424</td>\n",
       "      <td>126.357083</td>\n",
       "      <td>73.163838</td>\n",
       "      <td>98.285000</td>\n",
       "    </tr>\n",
       "    <tr>\n",
       "      <th>1362855</th>\n",
       "      <td>161.04</td>\n",
       "      <td>0.00</td>\n",
       "      <td>1070.87</td>\n",
       "      <td>31.0</td>\n",
       "      <td>0.0</td>\n",
       "      <td>99.0</td>\n",
       "      <td>1215.93</td>\n",
       "      <td>0.00</td>\n",
       "      <td>7690.49</td>\n",
       "      <td>39.223548</td>\n",
       "      <td>0.000000</td>\n",
       "      <td>77.681717</td>\n",
       "      <td>68.510923</td>\n",
       "    </tr>\n",
       "    <tr>\n",
       "      <th>1362895</th>\n",
       "      <td>96.25</td>\n",
       "      <td>1300.00</td>\n",
       "      <td>0.00</td>\n",
       "      <td>28.0</td>\n",
       "      <td>27.0</td>\n",
       "      <td>0.0</td>\n",
       "      <td>1410.77</td>\n",
       "      <td>3425.69</td>\n",
       "      <td>0.00</td>\n",
       "      <td>50.384643</td>\n",
       "      <td>126.877407</td>\n",
       "      <td>0.000000</td>\n",
       "      <td>87.935636</td>\n",
       "    </tr>\n",
       "  </tbody>\n",
       "</table>\n",
       "<p>421 rows × 13 columns</p>\n",
       "</div>"
      ],
      "text/plain": [
       "          saving   credit  checking  num_savings_tran  num_credit_tran  \\\n",
       "cust_id                                                                  \n",
       "1362487    12.89  1548.23   1401.21              19.0             32.0   \n",
       "1363160   122.54   286.69      0.00              48.0             68.0   \n",
       "1362752   609.33     0.00      3.76              12.0             15.0   \n",
       "1362548   254.02    68.68    569.65              12.0             22.0   \n",
       "1363017  2901.35  1000.00    147.15              24.0             63.0   \n",
       "...          ...      ...       ...               ...              ...   \n",
       "1362529   873.14   433.43   1007.92              21.0             39.0   \n",
       "1362508   255.11  1072.17     75.11              33.0             87.0   \n",
       "1363038   508.26  1800.00    459.03              33.0             24.0   \n",
       "1362855   161.04     0.00   1070.87              31.0              0.0   \n",
       "1362895    96.25  1300.00      0.00              28.0             27.0   \n",
       "\n",
       "         num_checking_tran  SV_tran_amt  CC_tran_amt  CH_tran_amt  \\\n",
       "cust_id                                                             \n",
       "1362487               52.0       887.52      4773.21      3244.83   \n",
       "1363160                0.0      2662.22     12506.95         0.00   \n",
       "1362752               93.0         9.07      6182.65     12086.71   \n",
       "1362548               99.0         3.78     15089.99     16817.43   \n",
       "1363017               99.0      1840.05     10172.72     10057.28   \n",
       "...                    ...          ...          ...          ...   \n",
       "1362529               99.0      2331.08      7634.33     11649.08   \n",
       "1362508               99.0      2749.01     17769.22      9117.73   \n",
       "1363038               99.0      5056.67      3032.57      7243.22   \n",
       "1362855               99.0      1215.93         0.00      7690.49   \n",
       "1362895                0.0      1410.77      3425.69         0.00   \n",
       "\n",
       "         AVG_savings_amt  AVG_credit_amt  AVG_checking_amt  Total_AVG_tran_amt  \n",
       "cust_id                                                                         \n",
       "1362487        46.711579      149.162813         62.400577           86.461748  \n",
       "1363160        55.462917      183.925735          0.000000          130.768707  \n",
       "1362752         0.755833      412.176667        129.964624          152.320250  \n",
       "1362548         0.315000      685.908636        169.873030          239.933835  \n",
       "1363017        76.668750      161.471746        101.588687          118.656183  \n",
       "...                  ...             ...               ...                 ...  \n",
       "1362529       111.003810      195.752051        117.667475          135.940189  \n",
       "1362508        83.303333      204.243908         92.098283          135.324018  \n",
       "1363038       153.232424      126.357083         73.163838           98.285000  \n",
       "1362855        39.223548        0.000000         77.681717           68.510923  \n",
       "1362895        50.384643      126.877407          0.000000           87.935636  \n",
       "\n",
       "[421 rows x 13 columns]"
      ]
     },
     "execution_count": 58,
     "metadata": {},
     "output_type": "execute_result"
    }
   ],
   "source": [
    "df_f[(df_f.saving!=0)&(label==0)]"
   ]
  },
  {
   "cell_type": "code",
   "execution_count": 104,
   "metadata": {},
   "outputs": [
    {
     "data": {
      "text/plain": [
       "<matplotlib.legend.Legend at 0x246deb31710>"
      ]
     },
     "execution_count": 104,
     "metadata": {},
     "output_type": "execute_result"
    },
    {
     "data": {
      "image/png": "[encoded data removed]",
      "text/plain": [
       "<Figure size 432x288 with 1 Axes>"
      ]
     },
     "metadata": {},
     "output_type": "display_data"
    }
   ],
   "source": [
    "x1 = df_f[(df_f.saving!=0)&(label==0)].saving\n",
    "x2 = df_f[(df_f.saving!=0)&(label==1)].saving\n",
    "x3 = df_f[(df_f.saving!=0)&(label==2)].saving\n",
    "x4 = df_f[(df_f.saving!=0)&(label==3)].saving\n",
    "\n",
    "\n",
    "kwargs = dict(histtype='stepfilled', alpha=0.7, bins=30)\n",
    "\n",
    "plt.hist(x1, **kwargs ,color='blue' ,label='cluster 0')\n",
    "plt.hist(x2, **kwargs ,color='red',label='cluster 1')\n",
    "plt.hist(x3, **kwargs ,color='green',label='cluster 2')\n",
    "plt.hist(x4, **kwargs ,color='purple',label='cluster 3')\n",
    "plt.xlim(xmin=-100, xmax = 11000)\n",
    "plt.legend(loc=\"upper right\")"
   ]
  },
  {
   "cell_type": "code",
   "execution_count": 94,
   "metadata": {},
   "outputs": [
    {
     "data": {
      "text/plain": [
       "count      421.000000\n",
       "mean      1258.060736\n",
       "std       2054.680311\n",
       "min          2.740000\n",
       "25%        254.020000\n",
       "50%        619.050000\n",
       "75%       1535.830000\n",
       "max      22432.780000\n",
       "Name: saving, dtype: float64"
      ]
     },
     "execution_count": 94,
     "metadata": {},
     "output_type": "execute_result"
    }
   ],
   "source": [
    "df_f[(df_f.saving!=0)].saving.describe()"
   ]
  },
  {
   "cell_type": "code",
   "execution_count": 103,
   "metadata": {},
   "outputs": [
    {
     "data": {
      "text/plain": [
       "<matplotlib.legend.Legend at 0x246dd807358>"
      ]
     },
     "execution_count": 103,
     "metadata": {},
     "output_type": "execute_result"
    },
    {
     "data": {
      "image/png": "[encoded data removed]",
      "text/plain": [
       "<Figure size 432x288 with 1 Axes>"
      ]
     },
     "metadata": {},
     "output_type": "display_data"
    }
   ],
   "source": [
    "x1 = df_f[(df_f.credit!=0)&(label==0)].credit\n",
    "x2 = df_f[(df_f.credit!=0)&(label==1)].credit\n",
    "x3 = df_f[(df_f.credit!=0)&(label==2)].credit\n",
    "x4 = df_f[(df_f.credit!=0)&(label==3)].credit\n",
    "\n",
    "\n",
    "kwargs = dict(histtype='stepfilled', alpha=0.7, bins=30)\n",
    "\n",
    "plt.hist(x1, **kwargs ,color='blue' ,label='cluster 0')\n",
    "plt.hist(x2, **kwargs ,color='red',label='cluster 1')\n",
    "plt.hist(x3, **kwargs ,color='green',label='cluster 2')\n",
    "plt.hist(x4, **kwargs ,color='purple',label='cluster 3')\n",
    "plt.xlim(xmin=-100, xmax = 10000)\n",
    "plt.legend(loc=\"upper right\")"
   ]
  },
  {
   "cell_type": "code",
   "execution_count": null,
   "metadata": {},
   "outputs": [],
   "source": []
  }
 ],
 "metadata": {
  "kernelspec": {
   "display_name": "Python 3",
   "language": "python",
   "name": "python3"
  },
  "language_info": {
   "codemirror_mode": {
    "name": "ipython",
    "version": 3
   },
   "file_extension": ".py",
   "mimetype": "text/x-python",
   "name": "python",
   "nbconvert_exporter": "python",
   "pygments_lexer": "ipython3",
   "version": "3.6.12"
  }
 },
 "nbformat": 4,
 "nbformat_minor": 4
}
